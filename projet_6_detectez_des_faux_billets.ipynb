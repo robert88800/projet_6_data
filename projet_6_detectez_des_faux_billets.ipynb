{
 "cells": [
  {
   "cell_type": "markdown",
   "metadata": {},
   "source": [
    "<div style=\"display: flex; background-color: RGB(106,90,205);\">\n",
    "<h1 style=\"margin: auto; padding: 30px; color: RGB(255,255,255);\">PROJET 6 - Détectez des faux-billets</h1>\n",
    "</div>"
   ]
  },
  {
   "cell_type": "markdown",
   "metadata": {},
   "source": [
    "<div style=\"background-color: RGB(106,90,205);\">\n",
    "<h2 style=\"margin: auto; padding: 20px; color:RGB(255,255,255);\">Objectif : Création d'un programme capable d'effectuer une prédiction sur un billet</h2>\n",
    "</div>"
   ]
  },
  {
   "cell_type": "markdown",
   "metadata": {},
   "source": [
    "<div style=\"border: 1px solid RGB(106,90,205);\">\n",
    "<h3 style=\"margin: auto; padding: 20px; color: RGB(106,90,205);\">Importation des librairies et des fonctions utiles</h3>\n",
    "</div>"
   ]
  },
  {
   "cell_type": "code",
   "execution_count": 1,
   "metadata": {},
   "outputs": [],
   "source": [
    "# import des fonctions utiles\n",
    "from functions import*\n",
    "\n",
    "# import des librairies utiles \n",
    "import scipy.stats as st\n",
    "from scipy.cluster.hierarchy import linkage, fcluster\n",
    "from sklearn import preprocessing, decomposition, model_selection\n",
    "from sklearn.linear_model import LogisticRegression\n",
    "from sklearn import metrics\n",
    "import seaborn as sb"
   ]
  },
  {
   "cell_type": "markdown",
   "metadata": {},
   "source": [
    "<div style=\"background-color: RGB(106,90,205);\">\n",
    "<h2 style=\"margin: auto; padding: 20px; color:RGB(255,255,255);\">Découverte des données</h2>\n",
    "</div>"
   ]
  },
  {
   "cell_type": "markdown",
   "metadata": {},
   "source": [
    "<div style=\"border: 1px solid RGB(106,90,205);\">\n",
    "<h3 style=\"margin: auto; padding: 20px; color: RGB(106,90,205);\">Importation du fichier relatif aux billets</h3>\n",
    "</div>"
   ]
  },
  {
   "cell_type": "code",
   "execution_count": 2,
   "metadata": {},
   "outputs": [
    {
     "data": {
      "text/html": [
       "<div>\n",
       "<style scoped>\n",
       "    .dataframe tbody tr th:only-of-type {\n",
       "        vertical-align: middle;\n",
       "    }\n",
       "\n",
       "    .dataframe tbody tr th {\n",
       "        vertical-align: top;\n",
       "    }\n",
       "\n",
       "    .dataframe thead th {\n",
       "        text-align: right;\n",
       "    }\n",
       "</style>\n",
       "<table border=\"1\" class=\"dataframe\">\n",
       "  <thead>\n",
       "    <tr style=\"text-align: right;\">\n",
       "      <th></th>\n",
       "      <th>is_genuine</th>\n",
       "      <th>length</th>\n",
       "      <th>height_left</th>\n",
       "      <th>height_right</th>\n",
       "      <th>margin_low</th>\n",
       "      <th>margin_up</th>\n",
       "      <th>diagonal</th>\n",
       "    </tr>\n",
       "  </thead>\n",
       "  <tbody>\n",
       "    <tr>\n",
       "      <th>0</th>\n",
       "      <td>True</td>\n",
       "      <td>171.81</td>\n",
       "      <td>104.86</td>\n",
       "      <td>104.95</td>\n",
       "      <td>4.52</td>\n",
       "      <td>2.89</td>\n",
       "      <td>112.83</td>\n",
       "    </tr>\n",
       "    <tr>\n",
       "      <th>1</th>\n",
       "      <td>True</td>\n",
       "      <td>171.67</td>\n",
       "      <td>103.74</td>\n",
       "      <td>103.70</td>\n",
       "      <td>4.01</td>\n",
       "      <td>2.87</td>\n",
       "      <td>113.29</td>\n",
       "    </tr>\n",
       "    <tr>\n",
       "      <th>2</th>\n",
       "      <td>True</td>\n",
       "      <td>171.83</td>\n",
       "      <td>103.76</td>\n",
       "      <td>103.76</td>\n",
       "      <td>4.40</td>\n",
       "      <td>2.88</td>\n",
       "      <td>113.84</td>\n",
       "    </tr>\n",
       "    <tr>\n",
       "      <th>3</th>\n",
       "      <td>True</td>\n",
       "      <td>171.80</td>\n",
       "      <td>103.78</td>\n",
       "      <td>103.65</td>\n",
       "      <td>3.73</td>\n",
       "      <td>3.12</td>\n",
       "      <td>113.63</td>\n",
       "    </tr>\n",
       "    <tr>\n",
       "      <th>4</th>\n",
       "      <td>True</td>\n",
       "      <td>172.05</td>\n",
       "      <td>103.70</td>\n",
       "      <td>103.75</td>\n",
       "      <td>5.04</td>\n",
       "      <td>2.27</td>\n",
       "      <td>113.55</td>\n",
       "    </tr>\n",
       "  </tbody>\n",
       "</table>\n",
       "</div>"
      ],
      "text/plain": [
       "   is_genuine  length  height_left  height_right  margin_low  margin_up  \\\n",
       "0        True  171.81       104.86        104.95        4.52       2.89   \n",
       "1        True  171.67       103.74        103.70        4.01       2.87   \n",
       "2        True  171.83       103.76        103.76        4.40       2.88   \n",
       "3        True  171.80       103.78        103.65        3.73       3.12   \n",
       "4        True  172.05       103.70        103.75        5.04       2.27   \n",
       "\n",
       "   diagonal  \n",
       "0    112.83  \n",
       "1    113.29  \n",
       "2    113.84  \n",
       "3    113.63  \n",
       "4    113.55  "
      ]
     },
     "execution_count": 2,
     "metadata": {},
     "output_type": "execute_result"
    }
   ],
   "source": [
    "# chargement de la table 'billets'\n",
    "billets = pd.read_csv(\"billets.csv\")\n",
    "\n",
    "# On observe\n",
    "billets.head()"
   ]
  },
  {
   "cell_type": "markdown",
   "metadata": {},
   "source": [
    "<div style=\"border: 1px solid RGB(106,90,205);\">\n",
    "<h3 style=\"margin: auto; padding: 20px; color: RGB(106,90,205);\">Recherche des valeurs manquantes</h3>\n",
    "</div>"
   ]
  },
  {
   "cell_type": "code",
   "execution_count": 3,
   "metadata": {
    "scrolled": true
   },
   "outputs": [
    {
     "data": {
      "text/plain": [
       "is_genuine      0\n",
       "length          0\n",
       "height_left     0\n",
       "height_right    0\n",
       "margin_low      0\n",
       "margin_up       0\n",
       "diagonal        0\n",
       "dtype: int64"
      ]
     },
     "execution_count": 3,
     "metadata": {},
     "output_type": "execute_result"
    }
   ],
   "source": [
    "billets.isnull().sum()"
   ]
  },
  {
   "cell_type": "markdown",
   "metadata": {},
   "source": [
    "> La table ne contient pas de valeur manquante"
   ]
  },
  {
   "cell_type": "markdown",
   "metadata": {},
   "source": [
    "<div style=\"border: 1px solid RGB(106,90,205);\">\n",
    "<h3 style=\"margin: auto; padding: 20px; color: RGB(106,90,205);\">Recherche de doublons</h3>\n",
    "</div>"
   ]
  },
  {
   "cell_type": "code",
   "execution_count": 4,
   "metadata": {},
   "outputs": [
    {
     "name": "stdout",
     "output_type": "stream",
     "text": [
      "(170, 7)\n"
     ]
    }
   ],
   "source": [
    "# On observe les dimensions de la table avant traitement\n",
    "print(billets.shape)"
   ]
  },
  {
   "cell_type": "code",
   "execution_count": 5,
   "metadata": {},
   "outputs": [
    {
     "data": {
      "text/plain": [
       "170"
      ]
     },
     "execution_count": 5,
     "metadata": {},
     "output_type": "execute_result"
    }
   ],
   "source": [
    "# On traite\n",
    "billets.drop_duplicates(keep='first',inplace=True)\n",
    "len(billets)"
   ]
  },
  {
   "cell_type": "markdown",
   "metadata": {},
   "source": [
    "> La table ne contient pas de doublon"
   ]
  },
  {
   "cell_type": "markdown",
   "metadata": {},
   "source": [
    "<div style=\"border: 1px solid RGB(106,90,205);\">\n",
    "<h3 style=\"margin: auto; padding: 20px; color: RGB(106,90,205);\">Recherche de valeurs aberrantes sur la seule variable qualitative</h3>\n",
    "</div>"
   ]
  },
  {
   "cell_type": "code",
   "execution_count": 6,
   "metadata": {},
   "outputs": [
    {
     "data": {
      "image/png": "[encoded data removed]",
      "text/plain": [
       "<Figure size 432x288 with 1 Axes>"
      ]
     },
     "metadata": {},
     "output_type": "display_data"
    }
   ],
   "source": [
    "# On affiche un graphique avec les différentes valeurs \n",
    "billets[\"is_genuine\"].value_counts(normalize=True).plot(kind='pie')\n",
    "plt.axis('equal') \n",
    "\n",
    "# On sauvegared le graphique\n",
    "plt.savefig('is_genuine')\n",
    "plt.show() "
   ]
  },
  {
   "cell_type": "markdown",
   "metadata": {},
   "source": [
    "> Cette variable ne contient pas de valeur aberrante"
   ]
  },
  {
   "cell_type": "markdown",
   "metadata": {},
   "source": [
    "<div style=\"background-color: RGB(106,90,205);\">\n",
    "<h2 style=\"margin: auto; padding: 20px; color:RGB(255,255,255);\">Mission 0 : Analyse statistique</h2>\n",
    "</div>"
   ]
  },
  {
   "cell_type": "markdown",
   "metadata": {},
   "source": [
    "<div style=\"border: 1px solid RGB(106,90,205);\">\n",
    "<h3 style=\"margin: auto; padding: 20px; color: RGB(106,90,205);\">Quelques analyses univariées</h3>\n",
    "</div>"
   ]
  },
  {
   "cell_type": "code",
   "execution_count": 7,
   "metadata": {},
   "outputs": [
    {
     "data": {
      "text/plain": [
       "count    170.000000\n",
       "mean     171.940588\n",
       "std        0.305768\n",
       "min      171.040000\n",
       "25%      171.730000\n",
       "50%      171.945000\n",
       "75%      172.137500\n",
       "max      173.010000\n",
       "Name: length, dtype: float64"
      ]
     },
     "execution_count": 7,
     "metadata": {},
     "output_type": "execute_result"
    }
   ],
   "source": [
    "# On calcule quelques indicateurs de tendance centrale et de dispersion sur la variable 'length'\n",
    "billets[\"length\"].describe()"
   ]
  },
  {
   "cell_type": "markdown",
   "metadata": {},
   "source": [
    "> Cette variable ne contient pas de valeur aberrante"
   ]
  },
  {
   "cell_type": "code",
   "execution_count": 8,
   "metadata": {},
   "outputs": [
    {
     "data": {
      "image/png": "[encoded data removed]",
      "text/plain": [
       "<Figure size 432x288 with 1 Axes>"
      ]
     },
     "metadata": {},
     "output_type": "display_data"
    },
    {
     "data": {
      "image/png": "[encoded data removed]",
      "text/plain": [
       "<Figure size 432x288 with 1 Axes>"
      ]
     },
     "metadata": {},
     "output_type": "display_data"
    }
   ],
   "source": [
    "# Représentation graphique de cette variable à l'aide d'un histogramme \n",
    "billets[\"length\"].hist() \n",
    "\n",
    "# On sauvegarde le graphique\n",
    "plt.savefig('hist_length')\n",
    "plt.show() \n",
    "\n",
    "# Représentation graphique de cette variable à l'aide d'un d'un boxplot\n",
    "billets.boxplot(column=\"length\", vert=False)\n",
    "\n",
    "# On sauvegarde le graphique\n",
    "plt.savefig('boxplot_length')\n",
    "plt.show()"
   ]
  },
  {
   "cell_type": "markdown",
   "metadata": {},
   "source": [
    "> On remarque la présence de 3 outliers (cf faux-billets)"
   ]
  },
  {
   "cell_type": "code",
   "execution_count": 9,
   "metadata": {},
   "outputs": [
    {
     "data": {
      "text/plain": [
       "count    170.000000\n",
       "mean     104.066353\n",
       "std        0.298185\n",
       "min      103.230000\n",
       "25%      103.842500\n",
       "50%      104.055000\n",
       "75%      104.287500\n",
       "max      104.860000\n",
       "Name: height_left, dtype: float64"
      ]
     },
     "execution_count": 9,
     "metadata": {},
     "output_type": "execute_result"
    }
   ],
   "source": [
    "# On calcule quelques indicateurs de tendance centrale et de dispersion sur la variable 'height_left'\n",
    "billets[\"height_left\"].describe()"
   ]
  },
  {
   "cell_type": "markdown",
   "metadata": {},
   "source": [
    "> Cette variable ne contient pas de valeur aberrante"
   ]
  },
  {
   "cell_type": "code",
   "execution_count": 10,
   "metadata": {},
   "outputs": [
    {
     "data": {
      "image/png": "[encoded data removed]",
      "text/plain": [
       "<Figure size 432x288 with 1 Axes>"
      ]
     },
     "metadata": {},
     "output_type": "display_data"
    },
    {
     "data": {
      "image/png": "[encoded data removed]",
      "text/plain": [
       "<Figure size 432x288 with 1 Axes>"
      ]
     },
     "metadata": {},
     "output_type": "display_data"
    }
   ],
   "source": [
    "# Représentation graphique de cette variable à l'aide d'un histogramme\n",
    "billets[\"height_left\"].hist() \n",
    "\n",
    "# On sauvegarde le graphqiue\n",
    "plt.savefig('hist_height_left')\n",
    "plt.show() \n",
    "\n",
    "# Représentation graphique de cette variable à l'aide d'un boxplot\n",
    "billets.boxplot(column=\"height_left\", vert=False)\n",
    "\n",
    "# On sauvegarde le graphique\n",
    "plt.savefig('boxplot_height_left')\n",
    "plt.show()"
   ]
  },
  {
   "cell_type": "code",
   "execution_count": 11,
   "metadata": {},
   "outputs": [
    {
     "data": {
      "text/plain": [
       "count    170.000000\n",
       "mean     103.928118\n",
       "std        0.330980\n",
       "min      103.140000\n",
       "25%      103.690000\n",
       "50%      103.950000\n",
       "75%      104.170000\n",
       "max      104.950000\n",
       "Name: height_right, dtype: float64"
      ]
     },
     "execution_count": 11,
     "metadata": {},
     "output_type": "execute_result"
    }
   ],
   "source": [
    "# On calcule quelques indicateurs de tendance centrale et de dispersion sur la variable 'height_right'\n",
    "billets[\"height_right\"].describe()"
   ]
  },
  {
   "cell_type": "markdown",
   "metadata": {},
   "source": [
    "> Cette variable ne contient pas de valeur aberrante"
   ]
  },
  {
   "cell_type": "code",
   "execution_count": 12,
   "metadata": {},
   "outputs": [
    {
     "data": {
      "image/png": "[encoded data removed]",
      "text/plain": [
       "<Figure size 432x288 with 1 Axes>"
      ]
     },
     "metadata": {},
     "output_type": "display_data"
    },
    {
     "data": {
      "image/png": "[encoded data removed]",
      "text/plain": [
       "<Figure size 432x288 with 1 Axes>"
      ]
     },
     "metadata": {},
     "output_type": "display_data"
    }
   ],
   "source": [
    "# Représentation graphique de cette variable à l'aide d'un histogramme\n",
    "billets[\"height_right\"].hist() \n",
    "\n",
    "# On sauvegarde le graphique\n",
    "plt.savefig('hist_height_right')\n",
    "plt.show() \n",
    "\n",
    "# Représentation graphique de cette variable à l'aide d'un boxplot\n",
    "billets.boxplot(column=\"height_right\", vert=False)\n",
    "\n",
    "# On sauvegarde la graphique\n",
    "plt.savefig('boxplot_height_right')\n",
    "plt.show()"
   ]
  },
  {
   "cell_type": "markdown",
   "metadata": {},
   "source": [
    "> On remarque la présence d'1 outliers (cf faux billets)"
   ]
  },
  {
   "cell_type": "code",
   "execution_count": 13,
   "metadata": {},
   "outputs": [
    {
     "data": {
      "text/plain": [
       "count    170.000000\n",
       "mean       4.612118\n",
       "std        0.702103\n",
       "min        3.540000\n",
       "25%        4.050000\n",
       "50%        4.450000\n",
       "75%        5.127500\n",
       "max        6.280000\n",
       "Name: margin_low, dtype: float64"
      ]
     },
     "execution_count": 13,
     "metadata": {},
     "output_type": "execute_result"
    }
   ],
   "source": [
    "# On calcule quelques indicateurs de tendance centrale et de dispersion sur la variable 'margin_low'\n",
    "billets[\"margin_low\"].describe()"
   ]
  },
  {
   "cell_type": "markdown",
   "metadata": {},
   "source": [
    "> Cette variable ne contient pas de valeur aberrante"
   ]
  },
  {
   "cell_type": "code",
   "execution_count": 14,
   "metadata": {},
   "outputs": [
    {
     "data": {
      "image/png": "[encoded data removed]",
      "text/plain": [
       "<Figure size 432x288 with 1 Axes>"
      ]
     },
     "metadata": {},
     "output_type": "display_data"
    },
    {
     "data": {
      "image/png": "[encoded data removed]",
      "text/plain": [
       "<Figure size 432x288 with 1 Axes>"
      ]
     },
     "metadata": {},
     "output_type": "display_data"
    }
   ],
   "source": [
    "# Représentation graphique de cette variable à l'aide d'un histogramme \n",
    "billets[\"margin_low\"].hist() \n",
    "\n",
    "# On sauvegarde le graphique\n",
    "plt.savefig('hist_margin_low')\n",
    "plt.show()\n",
    "\n",
    "# Représentation graphique de cette variable à l'aide d'un boxplot\n",
    "billets.boxplot(column=\"margin_low\", vert=False)\n",
    "\n",
    "# On sauvegarde le graphique\n",
    "plt.savefig('boxplot_margin_low')\n",
    "plt.show()"
   ]
  },
  {
   "cell_type": "code",
   "execution_count": 15,
   "metadata": {},
   "outputs": [
    {
     "data": {
      "text/plain": [
       "count    170.000000\n",
       "mean       3.170412\n",
       "std        0.236361\n",
       "min        2.270000\n",
       "25%        3.012500\n",
       "50%        3.170000\n",
       "75%        3.330000\n",
       "max        3.680000\n",
       "Name: margin_up, dtype: float64"
      ]
     },
     "execution_count": 15,
     "metadata": {},
     "output_type": "execute_result"
    }
   ],
   "source": [
    "# On calcule quelques indicateurs de tendance centrale et de dispersion sur la variable 'margin_up'\n",
    "billets[\"margin_up\"].describe()"
   ]
  },
  {
   "cell_type": "markdown",
   "metadata": {},
   "source": [
    "> Cette variable ne contient pas de valeur aberrante"
   ]
  },
  {
   "cell_type": "code",
   "execution_count": 16,
   "metadata": {},
   "outputs": [
    {
     "data": {
      "image/png": "[encoded data removed]",
      "text/plain": [
       "<Figure size 432x288 with 1 Axes>"
      ]
     },
     "metadata": {},
     "output_type": "display_data"
    },
    {
     "data": {
      "image/png": "[encoded data removed]",
      "text/plain": [
       "<Figure size 432x288 with 1 Axes>"
      ]
     },
     "metadata": {},
     "output_type": "display_data"
    }
   ],
   "source": [
    "# Représentation graphique de cette variable à l'aide d'un histogramme\n",
    "billets[\"margin_up\"].hist() \n",
    "\n",
    "# On sauvegarde le graphqiue \n",
    "plt.savefig('hist_margin_up')\n",
    "plt.show() \n",
    "\n",
    "# Représentation graphique de cette variable à l'aide d'un boxplot\n",
    "billets.boxplot(column=\"margin_up\", vert=False)\n",
    "\n",
    "# On sauvegarde le graphique \n",
    "plt.savefig('boxplot_margin_up')\n",
    "plt.show()"
   ]
  },
  {
   "cell_type": "markdown",
   "metadata": {},
   "source": [
    "> On remarque la présence d'1 outlier (cf faux-billet)"
   ]
  },
  {
   "cell_type": "code",
   "execution_count": 17,
   "metadata": {},
   "outputs": [
    {
     "data": {
      "text/plain": [
       "count    170.000000\n",
       "mean     112.570412\n",
       "std        0.924448\n",
       "min      109.970000\n",
       "25%      111.855000\n",
       "50%      112.845000\n",
       "75%      113.287500\n",
       "max      113.980000\n",
       "Name: diagonal, dtype: float64"
      ]
     },
     "execution_count": 17,
     "metadata": {},
     "output_type": "execute_result"
    }
   ],
   "source": [
    "# On calcule quelques indicateurs de tendance centrale et de dispersion sur la variable 'diagonal'\n",
    "billets[\"diagonal\"].describe()"
   ]
  },
  {
   "cell_type": "markdown",
   "metadata": {},
   "source": [
    "> Cette variable ne contient pas de valeur aberrante"
   ]
  },
  {
   "cell_type": "code",
   "execution_count": 18,
   "metadata": {},
   "outputs": [
    {
     "data": {
      "image/png": "[encoded data removed]",
      "text/plain": [
       "<Figure size 432x288 with 1 Axes>"
      ]
     },
     "metadata": {},
     "output_type": "display_data"
    },
    {
     "data": {
      "image/png": "[encoded data removed]",
      "text/plain": [
       "<Figure size 432x288 with 1 Axes>"
      ]
     },
     "metadata": {},
     "output_type": "display_data"
    }
   ],
   "source": [
    "# Représentation graphique de cette variable à l'aide d'un histogramme\n",
    "billets[\"diagonal\"].hist()\n",
    "\n",
    "# On sauvegarde le graphique \n",
    "plt.savefig('hist_diagonal')\n",
    "plt.show() \n",
    "\n",
    "# Représentation graphique de cette variable à l'aide d'un boxplot\n",
    "billets.boxplot(column=\"diagonal\", vert=False)\n",
    "\n",
    "# On sauvegarde le graphique\n",
    "plt.savefig('boxplot_diagonal')\n",
    "plt.show()"
   ]
  },
  {
   "cell_type": "markdown",
   "metadata": {},
   "source": [
    "<div style=\"border: 1px solid RGB(106,90,205);\">\n",
    "<h3 style=\"margin: auto; padding: 20px; color: RGB(106,90,205);\">Quelques analyses bivariées</h3>\n",
    "</div>"
   ]
  },
  {
   "cell_type": "code",
   "execution_count": 19,
   "metadata": {},
   "outputs": [
    {
     "data": {
      "image/png": "[encoded data removed]",
      "text/plain": [
       "<Figure size 432x288 with 1 Axes>"
      ]
     },
     "metadata": {},
     "output_type": "display_data"
    }
   ],
   "source": [
    "# Affichage du diagramme de dispersion avec les variables 'length' et 'diagonal'\n",
    "plt.plot(billets[\"length\"],billets[\"diagonal\"],'o',alpha=0.5)\n",
    "plt.xlabel(\"length\")\n",
    "plt.ylabel(\"diagonal\")\n",
    "\n",
    "# On sauvegarde le graphique\n",
    "plt.savefig('scatter_length_diagonal')\n",
    "plt.show()"
   ]
  },
  {
   "cell_type": "code",
   "execution_count": 20,
   "metadata": {},
   "outputs": [
    {
     "data": {
      "text/plain": [
       "0.08029518555722717"
      ]
     },
     "execution_count": 20,
     "metadata": {},
     "output_type": "execute_result"
    }
   ],
   "source": [
    "# Calcul du coefficient de corrélation de Pearson\n",
    "st.pearsonr(billets[\"length\"],billets[\"diagonal\"])[0]"
   ]
  },
  {
   "cell_type": "markdown",
   "metadata": {},
   "source": [
    "<div style=\"border: 1px solid RGB(106,90,205);\">\n",
    "<h3 style=\"margin: auto; padding: 20px; color: RGB(106,90,205);\">Interprétation</h3>\n",
    "</div>"
   ]
  },
  {
   "cell_type": "markdown",
   "metadata": {},
   "source": [
    "> Le coefficient de corrélation de Pearson ne détecte les relations que lorsqu'elles sont linéaires, c'est-à-dire \n",
    " lorsque les points sont plutôt bien alignés sur une ligne droite. Ce qui n'est pas le cas ici."
   ]
  },
  {
   "cell_type": "code",
   "execution_count": 21,
   "metadata": {},
   "outputs": [
    {
     "data": {
      "image/png": "[encoded data removed]",
      "text/plain": [
       "<Figure size 432x288 with 1 Axes>"
      ]
     },
     "metadata": {},
     "output_type": "display_data"
    }
   ],
   "source": [
    "# Affichage du diagramme de dispersion avec les variables 'height_left' et 'height_right'\n",
    "plt.plot(billets[\"height_left\"],billets[\"height_right\"],'o',alpha=0.5)\n",
    "plt.xlabel(\"height_left\")\n",
    "plt.ylabel(\"height_right\")\n",
    "\n",
    "# On sauvegarde le graphique\n",
    "plt.savefig('scatter_height_left_height_right')\n",
    "plt.show()"
   ]
  },
  {
   "cell_type": "code",
   "execution_count": 22,
   "metadata": {},
   "outputs": [
    {
     "data": {
      "text/plain": [
       "0.7343902682297874"
      ]
     },
     "execution_count": 22,
     "metadata": {},
     "output_type": "execute_result"
    }
   ],
   "source": [
    "# Calcul du coefficient de corrélation de Pearson\n",
    "st.pearsonr(billets[\"height_left\"],billets[\"height_right\"])[0]"
   ]
  },
  {
   "cell_type": "markdown",
   "metadata": {},
   "source": [
    "<div style=\"border: 1px solid RGB(106,90,205);\">\n",
    "<h3 style=\"margin: auto; padding: 20px; color: RGB(106,90,205);\">Interprétation</h3>\n",
    "</div>"
   ]
  },
  {
   "cell_type": "markdown",
   "metadata": {},
   "source": [
    "> Au regard du résultat il y a une corrélation linéaire et statistique mais il faudrait aller plus loin pour voir si il y a un lien de cause à effet dans la réalité, alors cette corrélation serait concrète "
   ]
  },
  {
   "cell_type": "code",
   "execution_count": 23,
   "metadata": {},
   "outputs": [
    {
     "data": {
      "image/png": "[encoded data removed]",
      "text/plain": [
       "<Figure size 432x288 with 1 Axes>"
      ]
     },
     "metadata": {},
     "output_type": "display_data"
    }
   ],
   "source": [
    "# Affichage du diagramme de dispersion avec les variables 'margin_low' et 'margin_up'\n",
    "plt.plot(billets[\"margin_low\"],billets[\"margin_up\"],'o',alpha=0.5)\n",
    "plt.xlabel(\"margin_low\")\n",
    "plt.ylabel(\"margin_up\")\n",
    "\n",
    "# On sauvegarde le graphique\n",
    "plt.savefig('scatter_margin_low_margin_up')\n",
    "plt.show()"
   ]
  },
  {
   "cell_type": "code",
   "execution_count": 24,
   "metadata": {},
   "outputs": [
    {
     "data": {
      "text/plain": [
       "0.17111283050073073"
      ]
     },
     "execution_count": 24,
     "metadata": {},
     "output_type": "execute_result"
    }
   ],
   "source": [
    "# Calcul du coefficient de corrélation de Pearson\n",
    "st.pearsonr(billets[\"margin_low\"],billets[\"margin_up\"])[0]"
   ]
  },
  {
   "cell_type": "markdown",
   "metadata": {},
   "source": [
    "<div style=\"border: 1px solid RGB(106,90,205);\">\n",
    "<h3 style=\"margin: auto; padding: 20px; color: RGB(106,90,205);\">Interprétation</h3>\n",
    "</div>"
   ]
  },
  {
   "cell_type": "markdown",
   "metadata": {},
   "source": [
    "> Le coefficient de corrélation de Pearson ne détecte les relations que lorsqu'elles sont linéaires, c'est-à-dire \n",
    "lorsque les points sont plutôt bien alignés sur une ligne droite. Ce qui n'est pas le cas ici."
   ]
  },
  {
   "cell_type": "markdown",
   "metadata": {},
   "source": [
    "<div style=\"background-color: RGB(106,90,205);\">\n",
    "<h2 style=\"margin: auto; padding: 20px; color:RGB(255,255,255);\">Mission 1 : Analyse en Composantes Principales de l'échantillon</h2>\n",
    "</div>"
   ]
  },
  {
   "cell_type": "markdown",
   "metadata": {},
   "source": [
    "> La variable 'is_genuine' est utilisée comme variable illustrative"
   ]
  },
  {
   "cell_type": "code",
   "execution_count": 25,
   "metadata": {},
   "outputs": [
    {
     "data": {
      "text/html": [
       "<div>\n",
       "<style scoped>\n",
       "    .dataframe tbody tr th:only-of-type {\n",
       "        vertical-align: middle;\n",
       "    }\n",
       "\n",
       "    .dataframe tbody tr th {\n",
       "        vertical-align: top;\n",
       "    }\n",
       "\n",
       "    .dataframe thead th {\n",
       "        text-align: right;\n",
       "    }\n",
       "</style>\n",
       "<table border=\"1\" class=\"dataframe\">\n",
       "  <thead>\n",
       "    <tr style=\"text-align: right;\">\n",
       "      <th></th>\n",
       "      <th>length</th>\n",
       "      <th>height_left</th>\n",
       "      <th>height_right</th>\n",
       "      <th>margin_low</th>\n",
       "      <th>margin_up</th>\n",
       "      <th>diagonal</th>\n",
       "    </tr>\n",
       "    <tr>\n",
       "      <th>is_genuine</th>\n",
       "      <th></th>\n",
       "      <th></th>\n",
       "      <th></th>\n",
       "      <th></th>\n",
       "      <th></th>\n",
       "      <th></th>\n",
       "    </tr>\n",
       "  </thead>\n",
       "  <tbody>\n",
       "    <tr>\n",
       "      <th>True</th>\n",
       "      <td>171.81</td>\n",
       "      <td>104.86</td>\n",
       "      <td>104.95</td>\n",
       "      <td>4.52</td>\n",
       "      <td>2.89</td>\n",
       "      <td>112.83</td>\n",
       "    </tr>\n",
       "    <tr>\n",
       "      <th>True</th>\n",
       "      <td>171.67</td>\n",
       "      <td>103.74</td>\n",
       "      <td>103.70</td>\n",
       "      <td>4.01</td>\n",
       "      <td>2.87</td>\n",
       "      <td>113.29</td>\n",
       "    </tr>\n",
       "    <tr>\n",
       "      <th>True</th>\n",
       "      <td>171.83</td>\n",
       "      <td>103.76</td>\n",
       "      <td>103.76</td>\n",
       "      <td>4.40</td>\n",
       "      <td>2.88</td>\n",
       "      <td>113.84</td>\n",
       "    </tr>\n",
       "    <tr>\n",
       "      <th>True</th>\n",
       "      <td>171.80</td>\n",
       "      <td>103.78</td>\n",
       "      <td>103.65</td>\n",
       "      <td>3.73</td>\n",
       "      <td>3.12</td>\n",
       "      <td>113.63</td>\n",
       "    </tr>\n",
       "    <tr>\n",
       "      <th>True</th>\n",
       "      <td>172.05</td>\n",
       "      <td>103.70</td>\n",
       "      <td>103.75</td>\n",
       "      <td>5.04</td>\n",
       "      <td>2.27</td>\n",
       "      <td>113.55</td>\n",
       "    </tr>\n",
       "  </tbody>\n",
       "</table>\n",
       "</div>"
      ],
      "text/plain": [
       "            length  height_left  height_right  margin_low  margin_up  diagonal\n",
       "is_genuine                                                                    \n",
       "True        171.81       104.86        104.95        4.52       2.89    112.83\n",
       "True        171.67       103.74        103.70        4.01       2.87    113.29\n",
       "True        171.83       103.76        103.76        4.40       2.88    113.84\n",
       "True        171.80       103.78        103.65        3.73       3.12    113.63\n",
       "True        172.05       103.70        103.75        5.04       2.27    113.55"
      ]
     },
     "execution_count": 25,
     "metadata": {},
     "output_type": "execute_result"
    }
   ],
   "source": [
    "# On modifie en index la variable 'is_genuine'\n",
    "billets.set_index('is_genuine', inplace=True, drop=True)\n",
    "\n",
    "# On observe\n",
    "billets.head()"
   ]
  },
  {
   "cell_type": "code",
   "execution_count": 26,
   "metadata": {},
   "outputs": [
    {
     "data": {
      "text/plain": [
       "array([[171.81, 104.86, 104.95,   4.52,   2.89, 112.83],\n",
       "       [171.67, 103.74, 103.7 ,   4.01,   2.87, 113.29],\n",
       "       [171.83, 103.76, 103.76,   4.4 ,   2.88, 113.84],\n",
       "       ...,\n",
       "       [172.47, 104.27, 104.1 ,   4.88,   3.33, 110.68],\n",
       "       [171.82, 103.97, 103.88,   4.73,   3.55, 111.87],\n",
       "       [171.96, 104.  , 103.95,   5.63,   3.26, 110.96]])"
      ]
     },
     "execution_count": 26,
     "metadata": {},
     "output_type": "execute_result"
    }
   ],
   "source": [
    "# On convertit les données de 'billets' en un objet de type array Numpy\n",
    "X = billets.values\n",
    "\n",
    "# On observe\n",
    "X"
   ]
  },
  {
   "cell_type": "code",
   "execution_count": 27,
   "metadata": {},
   "outputs": [],
   "source": [
    "# On affecte les valeurs de l'index à names\n",
    "names = billets.index\n",
    "\n",
    "# On affecte les colonnes à features\n",
    "features = billets.columns"
   ]
  },
  {
   "cell_type": "markdown",
   "metadata": {},
   "source": [
    "> On centre et on réduite à l'aide de la librairie scikit-learn"
   ]
  },
  {
   "cell_type": "code",
   "execution_count": 28,
   "metadata": {},
   "outputs": [
    {
     "data": {
      "text/plain": [
       "array([[-0.42834385,  2.6694537 ,  3.09656321, -0.13159013, -1.18987367,\n",
       "         0.28163308],\n",
       "       [-0.88755932, -1.09769709, -0.69125444, -0.86012554, -1.27473985,\n",
       "         0.78069736],\n",
       "       [-0.36274164, -1.03042654, -0.50943919, -0.30301023, -1.23230676,\n",
       "         1.37740465],\n",
       "       ...,\n",
       "       [ 1.73652911,  0.68497248,  0.52084721,  0.38267015,  0.67718214,\n",
       "        -2.05094997],\n",
       "       [-0.39554274, -0.32408577, -0.1458087 ,  0.16839504,  1.61071005,\n",
       "        -0.75989238],\n",
       "       [ 0.06367273, -0.22317994,  0.06630909,  1.45404575,  0.38015054,\n",
       "        -1.74717171]])"
      ]
     },
     "execution_count": 28,
     "metadata": {},
     "output_type": "execute_result"
    }
   ],
   "source": [
    "# Centrage et Réduction\n",
    "X_scaled = preprocessing.StandardScaler().fit_transform(X)\n",
    "\n",
    "# On observe\n",
    "X_scaled"
   ]
  },
  {
   "cell_type": "code",
   "execution_count": 29,
   "metadata": {},
   "outputs": [],
   "source": [
    "# On détermine le nombre des composantes principales\n",
    "n_comp = 4"
   ]
  },
  {
   "cell_type": "markdown",
   "metadata": {},
   "source": [
    "> On calcule les composantes principales à l'aide de la librairie scikit-leran"
   ]
  },
  {
   "cell_type": "code",
   "execution_count": 30,
   "metadata": {},
   "outputs": [
    {
     "data": {
      "text/plain": [
       "PCA(copy=True, iterated_power='auto', n_components=4, random_state=None,\n",
       "  svd_solver='auto', tol=0.0, whiten=False)"
      ]
     },
     "execution_count": 30,
     "metadata": {},
     "output_type": "execute_result"
    }
   ],
   "source": [
    "# Calcul des composantes principales \n",
    "pca = decomposition.PCA(n_components=n_comp)\n",
    "pca.fit(X_scaled)"
   ]
  },
  {
   "cell_type": "markdown",
   "metadata": {},
   "source": [
    "<div style=\"border: 1px solid RGB(106,90,205);\">\n",
    "<h3 style=\"margin: auto; padding: 20px; color: RGB(106,90,205);\">Analayse de l'éboulis des valeurs propres</h3>\n",
    "</div>"
   ]
  },
  {
   "cell_type": "code",
   "execution_count": 31,
   "metadata": {},
   "outputs": [
    {
     "data": {
      "image/png": "[encoded data removed]",
      "text/plain": [
       "<Figure size 432x288 with 1 Axes>"
      ]
     },
     "metadata": {},
     "output_type": "display_data"
    }
   ],
   "source": [
    "scree = pca.explained_variance_ratio_*100\n",
    "plt.bar(np.arange(len(scree))+1, scree)\n",
    "plt.plot(np.arange(len(scree))+1, scree.cumsum(),c=\"red\",marker='o')\n",
    "\n",
    "# On détermine les légendes\n",
    "plt.xlabel(\"rang de l'axe d'inertie\")\n",
    "plt.ylabel(\"pourcentage d'inertie\")\n",
    "plt.title(\"Eboulis des valeurs propres\")\n",
    "\n",
    "# On sauvegarde le graphique\n",
    "plt.savefig('e')"
   ]
  },
  {
   "cell_type": "markdown",
   "metadata": {},
   "source": [
    "> Les 2 premières composantes principales représentent plus de 70% de l'inertie<br/>\n",
    "><br/>\n",
    "> L'étude sur le premier plan factoriel sera donc pertinente"
   ]
  },
  {
   "cell_type": "markdown",
   "metadata": {},
   "source": [
    "<div style=\"border: 1px solid RGB(106,90,205);\">\n",
    "<h3 style=\"margin: auto; padding: 20px; color: RGB(106,90,205);\">Représentation des variables par le cercle des corrélations</h3>\n",
    "</div>"
   ]
  },
  {
   "cell_type": "code",
   "execution_count": 32,
   "metadata": {},
   "outputs": [
    {
     "data": {
      "image/png": "[encoded data removed]",
      "text/plain": [
       "<Figure size 504x432 with 1 Axes>"
      ]
     },
     "metadata": {},
     "output_type": "display_data"
    }
   ],
   "source": [
    "# On crée la fonction\n",
    "def display_circles(pcs, n_comp, pca, axis_ranks, labels=None, label_rotation=0, lims=None):\n",
    "    \n",
    "# On affiche les 3 premiers plans factoriels, donc les 6 premières composantes    \n",
    "    for d1, d2 in axis_ranks: \n",
    "        if d2 < n_comp:\n",
    "\n",
    "# Initialisation de la figure\n",
    "            fig, ax = plt.subplots(figsize=(7,6))\n",
    "\n",
    "# On détermine des limites du graphique\n",
    "            if lims is not None :\n",
    "                xmin, xmax, ymin, ymax = lims\n",
    "            elif pcs.shape[1] < 30 :\n",
    "                xmin, xmax, ymin, ymax = -1, 1, -1, 1\n",
    "            else :\n",
    "                xmin, xmax, ymin, ymax = min(pcs[d1,:]), max(pcs[d1,:]), min(pcs[d2,:]), max(pcs[d2,:])\n",
    "\n",
    "# Affichage des flèches\n",
    "# s'il y a plus de 30 flèches, on n'affiche pas le triangle à leur extrémité\n",
    "            if pcs.shape[1] < 30 :\n",
    "                plt.quiver(np.zeros(pcs.shape[1]), np.zeros(pcs.shape[1]),\n",
    "                   pcs[d1,:], pcs[d2,:], \n",
    "                   angles='xy', scale_units='xy', scale=1, color=\"grey\")\n",
    "            \n",
    "# (voir la doc : https://matplotlib.org/api/_as_gen/matplotlib.pyplot.quiver.html)\n",
    "            else:\n",
    "                lines = [[[0,0],[x,y]] for x,y in pcs[[d1,d2]].T]\n",
    "                ax.add_collection(LineCollection(lines, axes=ax, alpha=.1, color='black'))\n",
    "            \n",
    "# Affichage des noms des variables  \n",
    "            if labels is not None:  \n",
    "                for i,(x, y) in enumerate(pcs[[d1,d2]].T):\n",
    "                    if x >= xmin and x <= xmax and y >= ymin and y <= ymax :\n",
    "                        plt.text(x, y, labels[i], fontsize='14', ha='center', va='center', rotation=label_rotation, color=\"blue\", alpha=0.5)\n",
    "            \n",
    "# Affichage du cercle\n",
    "            circle = plt.Circle((0,0), 1, facecolor='none', edgecolor='b')\n",
    "            plt.gca().add_artist(circle)\n",
    "\n",
    "# Définition des limites du graphique\n",
    "            plt.xlim(xmin, xmax)\n",
    "            plt.ylim(ymin, ymax)\n",
    "        \n",
    "# Affichage des lignes horizontales et verticales\n",
    "            plt.plot([-1, 1], [0, 0], color='grey', ls='--')\n",
    "            plt.plot([0, 0], [-1, 1], color='grey', ls='--')\n",
    "\n",
    "# Nom des axes, avec le pourcentage d'inertie expliqué\n",
    "            plt.xlabel('F{} ({}%)'.format(d1+1, round(100*pca.explained_variance_ratio_[d1],1)))\n",
    "            plt.ylabel('F{} ({}%)'.format(d2+1, round(100*pca.explained_variance_ratio_[d2],1)))\n",
    "\n",
    "            plt.title(\"Cercle des corrélations (F{} et F{})\".format(d1+1, d2+1))\n",
    "\n",
    "# On affiche le graphique\n",
    "pcs = pca.components_\n",
    "display_circles(pcs, n_comp, pca, [(0,1)], labels = np.array(features))\n",
    "\n",
    "# On sauvegarde le graphique\n",
    "plt.savefig('cercle_correlations')\n",
    "plt.show()"
   ]
  },
  {
   "cell_type": "markdown",
   "metadata": {},
   "source": [
    "<div style=\"border: 1px solid RGB(106,90,205);\">\n",
    "<h3 style=\"margin: auto; padding: 20px; color: RGB(106,90,205);\">Représentation des individus sur le 1er plan factoriel</h3>\n",
    "</div>"
   ]
  },
  {
   "cell_type": "code",
   "execution_count": 33,
   "metadata": {},
   "outputs": [
    {
     "data": {
      "image/png": "[encoded data removed]",
      "text/plain": [
       "<Figure size 504x432 with 1 Axes>"
      ]
     },
     "metadata": {},
     "output_type": "display_data"
    }
   ],
   "source": [
    "# On crée la fonction\n",
    "def display_factorial_planes(X_projected, n_comp, pca, axis_ranks, labels=None, alpha=1, illustrative_var=None):\n",
    "    for d1,d2 in axis_ranks:\n",
    "        if d2 < n_comp:\n",
    "            \n",
    "# Initialisation de la figure       \n",
    "            fig = plt.figure(figsize=(7,6))\n",
    "        \n",
    "# Affichage des points\n",
    "            if illustrative_var is None:\n",
    "                plt.scatter(X_projected[:, d1], X_projected[:, d2], alpha=alpha)\n",
    "            else:\n",
    "                illustrative_var = np.array(illustrative_var)\n",
    "                for value in np.unique(illustrative_var):\n",
    "                    selected = np.where(illustrative_var == value)\n",
    "                    plt.scatter(X_projected[selected, d1], X_projected[selected, d2], alpha=alpha, label=value)\n",
    "                plt.legend()\n",
    "\n",
    "# Affichage des labels des points\n",
    "            if labels is not None:\n",
    "                for i,(x,y) in enumerate(X_projected[:,[d1,d2]]):\n",
    "                    plt.text(x, y, labels[i],\n",
    "                              fontsize='14', ha='center',va='center') \n",
    "                \n",
    "# Détermination des limites du graphique\n",
    "            boundary = np.max(np.abs(X_projected[:, [d1,d2]])) * 1.1\n",
    "            plt.xlim([-boundary,boundary])\n",
    "            plt.ylim([-boundary,boundary])\n",
    "        \n",
    "# Affichage des lignes horizontales et verticales\n",
    "            plt.plot([-100, 100], [0, 0], color='grey', ls='--')\n",
    "            plt.plot([0, 0], [-100, 100], color='grey', ls='--')\n",
    "\n",
    "# Nom des axes, avec le pourcentage d'inertie expliqué\n",
    "            plt.xlabel('F{} ({}%)'.format(d1+1, round(100*pca.explained_variance_ratio_[d1],1)))\n",
    "            plt.ylabel('F{} ({}%)'.format(d2+1, round(100*pca.explained_variance_ratio_[d2],1)))\n",
    "\n",
    "# Nom du titre\n",
    "            plt.title(\"Projection des individus (sur F{} et F{})\".format(d1+1, d2+1))\n",
    "            \n",
    "# Projection des individus\n",
    "X_projected = pca.transform(X_scaled)\n",
    "display_factorial_planes(X_projected, n_comp, pca, [(0,1)], labels = np.array(names))\n",
    "\n",
    "# On sauvegarde le graphique\n",
    "plt.savefig('projection_individus')\n",
    "plt.show()"
   ]
  },
  {
   "cell_type": "code",
   "execution_count": 34,
   "metadata": {},
   "outputs": [
    {
     "data": {
      "image/png": "[encoded data removed]",
      "text/plain": [
       "<Figure size 504x432 with 1 Axes>"
      ]
     },
     "metadata": {},
     "output_type": "display_data"
    }
   ],
   "source": [
    "# Affichage en fonction des valeurs de l'index\n",
    "display_factorial_planes(X_projected, n_comp, pca, [(0,1)],  illustrative_var=np.array(names))\n",
    "\n",
    "# On sauvegarde le graphique\n",
    "plt.savefig('projection_individus_colores')\n",
    "plt.show()"
   ]
  },
  {
   "cell_type": "markdown",
   "metadata": {},
   "source": [
    "<div style=\"border: 1px solid RGB(106,90,205);\">\n",
    "<h3 style=\"margin: auto; padding: 20px; color: RGB(106,90,205);\">Analyse de la qualité de représentation et de la contribution des individus</h3>\n",
    "</div>"
   ]
  },
  {
   "cell_type": "markdown",
   "metadata": {},
   "source": [
    "> La variable 'diagonal' ainsi que le couple de variables 'margin_up', 'margin_low' semblent permettre de déterminer les vrais billets des faux<br/>\n",
    "><br/>\n",
    "> En effet sur 1 majorité de billets : \n",
    "- vrai-billet : la diagonale est plus élevée et les marges sont plus faibles \n",
    "- faux-billet : c'est l'inverse \n",
    "- 2-3 faux billets se promènent"
   ]
  },
  {
   "cell_type": "markdown",
   "metadata": {},
   "source": [
    "<div style=\"background-color: RGB(106,90,205);\">\n",
    "<h2 style=\"margin: auto; padding: 20px; color:RGB(255,255,255);\">Mission 2 : Clustering hiérarchique</h2>\n",
    "</div>"
   ]
  },
  {
   "cell_type": "markdown",
   "metadata": {},
   "source": [
    "<div style=\"border: 1px solid RGB(106,90,205);\">\n",
    "<h3 style=\"margin: auto; padding: 20px; color: RGB(106,90,205);\">Création d'un dendrogramme à l'aide d'un algorithme de classification</h3>\n",
    "</div>"
   ]
  },
  {
   "cell_type": "markdown",
   "metadata": {},
   "source": [
    "> En statistiques, et plus particulièrement en classification hiérarchique, la méthode de Ward est un algorithme permettant de regrouper deux classes d'une partition pour obtenir une partition plus agrégée"
   ]
  },
  {
   "cell_type": "code",
   "execution_count": 35,
   "metadata": {},
   "outputs": [
    {
     "data": {
      "text/plain": [
       "array([[ 58.        ,  83.        ,   0.41912015,   2.        ],\n",
       "       [ 59.        ,  64.        ,   0.44725813,   2.        ],\n",
       "       [ 85.        ,  98.        ,   0.46825035,   2.        ],\n",
       "       [120.        , 140.        ,   0.47114187,   2.        ],\n",
       "       [  2.        ,  31.        ,   0.4843012 ,   2.        ],\n",
       "       [ 42.        ,  67.        ,   0.48823867,   2.        ],\n",
       "       [  7.        ,  93.        ,   0.49395901,   2.        ],\n",
       "       [ 14.        ,  74.        ,   0.52489335,   2.        ],\n",
       "       [111.        , 143.        ,   0.55752737,   2.        ],\n",
       "       [107.        , 125.        ,   0.56201253,   2.        ],\n",
       "       [ 13.        ,  47.        ,   0.56597629,   2.        ],\n",
       "       [116.        , 117.        ,   0.60107793,   2.        ],\n",
       "       [104.        , 163.        ,   0.62450673,   2.        ],\n",
       "       [141.        , 152.        ,   0.63333457,   2.        ],\n",
       "       [ 50.        ,  99.        ,   0.64174701,   2.        ],\n",
       "       [ 61.        ,  62.        ,   0.6580121 ,   2.        ],\n",
       "       [ 44.        ,  66.        ,   0.66261708,   2.        ],\n",
       "       [ 21.        ,  33.        ,   0.69269457,   2.        ],\n",
       "       [130.        , 164.        ,   0.69368553,   2.        ],\n",
       "       [ 63.        ,  77.        ,   0.69489317,   2.        ],\n",
       "       [  3.        ,  79.        ,   0.70302716,   2.        ],\n",
       "       [ 30.        , 177.        ,   0.71346674,   3.        ],\n",
       "       [148.        , 162.        ,   0.71741622,   2.        ],\n",
       "       [132.        , 178.        ,   0.72047455,   3.        ],\n",
       "       [  9.        ,  96.        ,   0.72466167,   2.        ],\n",
       "       [ 46.        ,  48.        ,   0.7359573 ,   2.        ],\n",
       "       [ 17.        ,  86.        ,   0.74154466,   2.        ],\n",
       "       [ 20.        ,  60.        ,   0.75250683,   2.        ],\n",
       "       [105.        , 114.        ,   0.75450333,   2.        ],\n",
       "       [ 55.        ,  82.        ,   0.76092629,   2.        ],\n",
       "       [ 36.        ,  91.        ,   0.76681288,   2.        ],\n",
       "       [ 89.        , 171.        ,   0.78712153,   3.        ],\n",
       "       [ 32.        ,  81.        ,   0.79016883,   2.        ],\n",
       "       [149.        , 168.        ,   0.80865607,   2.        ],\n",
       "       [129.        , 133.        ,   0.81375326,   2.        ],\n",
       "       [126.        , 128.        ,   0.8195998 ,   2.        ],\n",
       "       [ 54.        ,  92.        ,   0.82149429,   2.        ],\n",
       "       [  1.        ,  90.        ,   0.82627724,   2.        ],\n",
       "       [ 69.        , 102.        ,   0.86435406,   2.        ],\n",
       "       [ 22.        ,  65.        ,   0.87883189,   2.        ],\n",
       "       [ 37.        ,  71.        ,   0.88277578,   2.        ],\n",
       "       [157.        , 192.        ,   0.88955323,   3.        ],\n",
       "       [ 87.        , 197.        ,   0.89654449,   3.        ],\n",
       "       [135.        , 182.        ,   0.89933037,   3.        ],\n",
       "       [ 73.        ,  97.        ,   0.92383331,   2.        ],\n",
       "       [ 72.        ,  76.        ,   0.92503809,   2.        ],\n",
       "       [  8.        ,  11.        ,   0.93381131,   2.        ],\n",
       "       [ 41.        ,  43.        ,   0.935138  ,   2.        ],\n",
       "       [ 28.        , 170.        ,   0.93843608,   3.        ],\n",
       "       [ 94.        , 190.        ,   0.95427214,   3.        ],\n",
       "       [121.        , 146.        ,   0.96321392,   2.        ],\n",
       "       [ 45.        ,  75.        ,   0.98204951,   2.        ],\n",
       "       [ 57.        , 175.        ,   0.99121607,   3.        ],\n",
       "       [103.        , 109.        ,   0.99842319,   2.        ],\n",
       "       [ 84.        , 209.        ,   0.99863078,   3.        ],\n",
       "       [ 26.        , 200.        ,   1.02898205,   3.        ],\n",
       "       [123.        , 193.        ,   1.0305441 ,   4.        ],\n",
       "       [ 19.        ,  35.        ,   1.05365682,   2.        ],\n",
       "       [ 23.        ,  34.        ,   1.05701241,   2.        ],\n",
       "       [ 12.        ,  78.        ,   1.05718195,   2.        ],\n",
       "       [137.        , 147.        ,   1.07720565,   2.        ],\n",
       "       [131.        , 154.        ,   1.10148219,   2.        ],\n",
       "       [138.        , 139.        ,   1.10265167,   2.        ],\n",
       "       [172.        , 201.        ,   1.13978835,   5.        ],\n",
       "       [173.        , 204.        ,   1.13987455,   4.        ],\n",
       "       [187.        , 228.        ,   1.14811326,   4.        ],\n",
       "       [ 25.        ,  53.        ,   1.15198797,   2.        ],\n",
       "       [ 95.        , 225.        ,   1.15701482,   4.        ],\n",
       "       [176.        , 221.        ,   1.17024477,   4.        ],\n",
       "       [ 51.        , 194.        ,   1.17668334,   3.        ],\n",
       "       [189.        , 214.        ,   1.19019054,   4.        ],\n",
       "       [ 68.        , 174.        ,   1.19211152,   3.        ],\n",
       "       [185.        , 210.        ,   1.19831531,   4.        ],\n",
       "       [113.        , 181.        ,   1.20178591,   3.        ],\n",
       "       [155.        , 169.        ,   1.2088154 ,   2.        ],\n",
       "       [ 80.        , 202.        ,   1.21523856,   3.        ],\n",
       "       [108.        , 203.        ,   1.22667942,   3.        ],\n",
       "       [150.        , 243.        ,   1.24645479,   4.        ],\n",
       "       [184.        , 207.        ,   1.24794565,   4.        ],\n",
       "       [136.        , 211.        ,   1.25988367,   4.        ],\n",
       "       [110.        , 208.        ,   1.26455473,   3.        ],\n",
       "       [ 16.        , 227.        ,   1.27681464,   3.        ],\n",
       "       [ 49.        , 206.        ,   1.28140438,   3.        ],\n",
       "       [191.        , 218.        ,   1.2833669 ,   6.        ],\n",
       "       [ 29.        , 222.        ,   1.29508149,   4.        ],\n",
       "       [ 10.        , 236.        ,   1.29927756,   3.        ],\n",
       "       [ 24.        , 245.        ,   1.30813654,   4.        ],\n",
       "       [199.        , 212.        ,   1.32226168,   5.        ],\n",
       "       [142.        , 153.        ,   1.36023343,   2.        ],\n",
       "       [ 38.        , 237.        ,   1.38762681,   5.        ],\n",
       "       [219.        , 248.        ,   1.39310707,   7.        ],\n",
       "       [165.        , 205.        ,   1.39519926,   3.        ],\n",
       "       [100.        , 134.        ,   1.39718735,   2.        ],\n",
       "       [213.        , 249.        ,   1.4109616 ,   7.        ],\n",
       "       [180.        , 195.        ,   1.41663414,   4.        ],\n",
       "       [118.        , 145.        ,   1.43117018,   2.        ],\n",
       "       [115.        , 167.        ,   1.50207246,   2.        ],\n",
       "       [ 27.        , 239.        ,   1.50227552,   4.        ],\n",
       "       [ 52.        ,  88.        ,   1.50644603,   2.        ],\n",
       "       [158.        , 220.        ,   1.52501057,   3.        ],\n",
       "       [ 18.        , 216.        ,   1.53596154,   3.        ],\n",
       "       [101.        , 226.        ,   1.5427921 ,   5.        ],\n",
       "       [179.        , 261.        ,   1.57668131,   5.        ],\n",
       "       [119.        , 156.        ,   1.65059369,   2.        ],\n",
       "       [196.        , 241.        ,   1.67368898,   5.        ],\n",
       "       [106.        , 246.        ,   1.7461454 ,   4.        ],\n",
       "       [124.        , 232.        ,   1.77300414,   3.        ],\n",
       "       [231.        , 263.        ,   1.79346598,   9.        ],\n",
       "       [ 56.        , 242.        ,   1.79901768,   5.        ],\n",
       "       [224.        , 229.        ,   1.82159004,   5.        ],\n",
       "       [112.        , 223.        ,   1.82352521,   3.        ],\n",
       "       [127.        , 271.        ,   1.84241149,   6.        ],\n",
       "       [240.        , 264.        ,   1.84405583,   8.        ],\n",
       "       [198.        , 244.        ,   1.89256878,   4.        ],\n",
       "       [ 40.        , 254.        ,   1.89257295,   5.        ],\n",
       "       [186.        , 238.        ,   1.91109305,   6.        ],\n",
       "       [233.        , 256.        ,   1.96165767,   9.        ],\n",
       "       [159.        , 230.        ,   1.97514753,   3.        ],\n",
       "       [151.        , 258.        ,   2.12550692,   3.        ],\n",
       "       [215.        , 251.        ,   2.13957734,   5.        ],\n",
       "       [  6.        , 278.        ,   2.14111526,   6.        ],\n",
       "       [  4.        ,  15.        ,   2.17831551,   2.        ],\n",
       "       [161.        , 283.        ,   2.209314  ,   5.        ],\n",
       "       [188.        , 277.        ,   2.21539927,  11.        ],\n",
       "       [122.        , 280.        ,   2.25472691,   4.        ],\n",
       "       [  5.        , 235.        ,   2.25571063,   5.        ],\n",
       "       [265.        , 276.        ,   2.28210817,   5.        ],\n",
       "       [234.        , 272.        ,   2.28562712,   9.        ],\n",
       "       [160.        , 266.        ,   2.28766901,   3.        ],\n",
       "       [183.        , 273.        ,   2.30289279,   4.        ],\n",
       "       [253.        , 286.        ,   2.36773792,  15.        ],\n",
       "       [260.        , 282.        ,   2.46414978,  15.        ],\n",
       "       [252.        , 285.        ,   2.6201325 ,   9.        ],\n",
       "       [217.        , 289.        ,   2.65031851,   7.        ],\n",
       "       [257.        , 290.        ,   2.76699168,  11.        ],\n",
       "       [250.        , 275.        ,   2.77081501,   7.        ],\n",
       "       [274.        , 284.        ,   2.78030301,  10.        ],\n",
       "       [262.        , 293.        ,   2.81728755,  13.        ],\n",
       "       [247.        , 269.        ,   2.84653084,   7.        ],\n",
       "       [268.        , 300.        ,   2.8495078 ,  17.        ],\n",
       "       [ 39.        ,  70.        ,   2.85870527,   2.        ],\n",
       "       [144.        , 303.        ,   2.97242346,   8.        ],\n",
       "       [292.        , 308.        ,   3.04606218,  12.        ],\n",
       "       [255.        , 279.        ,   3.08167103,   8.        ],\n",
       "       [291.        , 306.        ,   3.34091458,  12.        ],\n",
       "       [259.        , 295.        ,   3.35483837,  10.        ],\n",
       "       [297.        , 305.        ,   3.40768363,  16.        ],\n",
       "       [270.        , 309.        ,   3.546202  ,  20.        ],\n",
       "       [267.        , 315.        ,   3.59707162,  14.        ],\n",
       "       [  0.        , 294.        ,   3.65962161,   5.        ],\n",
       "       [281.        , 287.        ,   3.74456094,   9.        ],\n",
       "       [288.        , 307.        ,   3.81908613,  16.        ],\n",
       "       [166.        , 298.        ,   3.91081281,   4.        ],\n",
       "       [301.        , 302.        ,   4.01374583,  24.        ],\n",
       "       [299.        , 321.        ,   4.51054534,  20.        ],\n",
       "       [296.        , 312.        ,   4.57832147,  17.        ],\n",
       "       [310.        , 323.        ,   4.63928269,  26.        ],\n",
       "       [316.        , 320.        ,   4.75532438,  25.        ],\n",
       "       [313.        , 318.        ,   5.20475837,  22.        ],\n",
       "       [311.        , 314.        ,   5.29237716,  20.        ],\n",
       "       [304.        , 317.        ,   5.53836968,  31.        ],\n",
       "       [322.        , 327.        ,   6.43862733,  29.        ],\n",
       "       [319.        , 325.        ,   6.7098616 ,  22.        ],\n",
       "       [326.        , 329.        ,   8.36147801,  46.        ],\n",
       "       [330.        , 333.        ,   8.80775138,  77.        ],\n",
       "       [331.        , 332.        ,   8.91182068,  51.        ],\n",
       "       [324.        , 335.        ,  10.21906029,  71.        ],\n",
       "       [328.        , 334.        ,  14.81429814,  99.        ],\n",
       "       [336.        , 337.        ,  27.74640036, 170.        ]])"
      ]
     },
     "execution_count": 35,
     "metadata": {},
     "output_type": "execute_result"
    }
   ],
   "source": [
    "# Clustering hiérarchique à l'aide de la librairie scipy\n",
    "Z = linkage(X_scaled, 'ward')\n",
    "\n",
    "# On observe\n",
    "Z"
   ]
  },
  {
   "cell_type": "markdown",
   "metadata": {},
   "source": [
    "> Création du dendrogramme à l'aide de la librairie scipy"
   ]
  },
  {
   "cell_type": "code",
   "execution_count": 36,
   "metadata": {},
   "outputs": [
    {
     "data": {
      "image/png": "[encoded data removed]",
      "text/plain": [
       "<Figure size 720x1800 with 1 Axes>"
      ]
     },
     "metadata": {},
     "output_type": "display_data"
    }
   ],
   "source": [
    "# Affichage du dendrogramme\n",
    "plt.figure(figsize=(10,25))\n",
    "plt.title('Hierarchical Clustering Dendrogram')\n",
    "plt.xlabel('distance')\n",
    "\n",
    "# color_threshold=20 détermine la distance donc le nb de clusters\n",
    "dendrogram(Z,labels = names,orientation = \"left\",color_threshold=20)\n",
    "\n",
    "# On sauvegarde le graphique\n",
    "plt.savefig('dendrogram')\n",
    "plt.show()"
   ]
  },
  {
   "cell_type": "code",
   "execution_count": 37,
   "metadata": {},
   "outputs": [],
   "source": [
    "# Découpage du dendrogramme en 2 clusters\n",
    "n_comp = 2\n",
    "clusters = fcluster(Z, n_comp, criterion='maxclust')"
   ]
  },
  {
   "cell_type": "code",
   "execution_count": 38,
   "metadata": {
    "scrolled": true
   },
   "outputs": [
    {
     "data": {
      "text/html": [
       "<div>\n",
       "<style scoped>\n",
       "    .dataframe tbody tr th:only-of-type {\n",
       "        vertical-align: middle;\n",
       "    }\n",
       "\n",
       "    .dataframe tbody tr th {\n",
       "        vertical-align: top;\n",
       "    }\n",
       "\n",
       "    .dataframe thead th {\n",
       "        text-align: right;\n",
       "    }\n",
       "</style>\n",
       "<table border=\"1\" class=\"dataframe\">\n",
       "  <thead>\n",
       "    <tr style=\"text-align: right;\">\n",
       "      <th></th>\n",
       "      <th>length</th>\n",
       "      <th>height_left</th>\n",
       "      <th>height_right</th>\n",
       "      <th>margin_low</th>\n",
       "      <th>margin_up</th>\n",
       "      <th>diagonal</th>\n",
       "      <th>clusters</th>\n",
       "    </tr>\n",
       "    <tr>\n",
       "      <th>is_genuine</th>\n",
       "      <th></th>\n",
       "      <th></th>\n",
       "      <th></th>\n",
       "      <th></th>\n",
       "      <th></th>\n",
       "      <th></th>\n",
       "      <th></th>\n",
       "    </tr>\n",
       "  </thead>\n",
       "  <tbody>\n",
       "    <tr>\n",
       "      <th>True</th>\n",
       "      <td>171.81</td>\n",
       "      <td>104.86</td>\n",
       "      <td>104.95</td>\n",
       "      <td>4.52</td>\n",
       "      <td>2.89</td>\n",
       "      <td>112.83</td>\n",
       "      <td>1</td>\n",
       "    </tr>\n",
       "    <tr>\n",
       "      <th>True</th>\n",
       "      <td>171.67</td>\n",
       "      <td>103.74</td>\n",
       "      <td>103.70</td>\n",
       "      <td>4.01</td>\n",
       "      <td>2.87</td>\n",
       "      <td>113.29</td>\n",
       "      <td>2</td>\n",
       "    </tr>\n",
       "    <tr>\n",
       "      <th>True</th>\n",
       "      <td>171.83</td>\n",
       "      <td>103.76</td>\n",
       "      <td>103.76</td>\n",
       "      <td>4.40</td>\n",
       "      <td>2.88</td>\n",
       "      <td>113.84</td>\n",
       "      <td>2</td>\n",
       "    </tr>\n",
       "    <tr>\n",
       "      <th>True</th>\n",
       "      <td>171.80</td>\n",
       "      <td>103.78</td>\n",
       "      <td>103.65</td>\n",
       "      <td>3.73</td>\n",
       "      <td>3.12</td>\n",
       "      <td>113.63</td>\n",
       "      <td>2</td>\n",
       "    </tr>\n",
       "    <tr>\n",
       "      <th>True</th>\n",
       "      <td>172.05</td>\n",
       "      <td>103.70</td>\n",
       "      <td>103.75</td>\n",
       "      <td>5.04</td>\n",
       "      <td>2.27</td>\n",
       "      <td>113.55</td>\n",
       "      <td>2</td>\n",
       "    </tr>\n",
       "  </tbody>\n",
       "</table>\n",
       "</div>"
      ],
      "text/plain": [
       "            length  height_left  height_right  margin_low  margin_up  \\\n",
       "is_genuine                                                             \n",
       "True        171.81       104.86        104.95        4.52       2.89   \n",
       "True        171.67       103.74        103.70        4.01       2.87   \n",
       "True        171.83       103.76        103.76        4.40       2.88   \n",
       "True        171.80       103.78        103.65        3.73       3.12   \n",
       "True        172.05       103.70        103.75        5.04       2.27   \n",
       "\n",
       "            diagonal  clusters  \n",
       "is_genuine                      \n",
       "True          112.83         1  \n",
       "True          113.29         2  \n",
       "True          113.84         2  \n",
       "True          113.63         2  \n",
       "True          113.55         2  "
      ]
     },
     "execution_count": 38,
     "metadata": {},
     "output_type": "execute_result"
    }
   ],
   "source": [
    "# clusters est ajouté en nouvelle variable à la table\n",
    "billets[\"clusters\"] = clusters\n",
    "billets.head()"
   ]
  },
  {
   "cell_type": "markdown",
   "metadata": {},
   "source": [
    "<div style=\"border: 1px solid RGB(106,90,205);\">\n",
    "<h3 style=\"margin: auto; padding: 20px; color: RGB(106,90,205);\">Interprétation</h3>\n",
    "</div>"
   ]
  },
  {
   "cell_type": "markdown",
   "metadata": {},
   "source": [
    "> Comme on pouvait s'y attendre le clustering hiérarchique nous ressort deux groupes "
   ]
  },
  {
   "cell_type": "markdown",
   "metadata": {},
   "source": [
    "<div style=\"border: 1px solid RGB(106,90,205);\">\n",
    "<h3 style=\"margin: auto; padding: 20px; color: RGB(106,90,205);\">Visualisation de la partition obtenue dans le premier plan factoriel de l'ACP</h3>\n",
    "</div>"
   ]
  },
  {
   "cell_type": "code",
   "execution_count": 39,
   "metadata": {},
   "outputs": [
    {
     "data": {
      "image/png": "[encoded data removed]",
      "text/plain": [
       "<Figure size 504x432 with 1 Axes>"
      ]
     },
     "metadata": {},
     "output_type": "display_data"
    }
   ],
   "source": [
    "# On projette les individus en fonction du cluster\n",
    "display_factorial_planes(X_projected, n_comp, pca, [(0,1)], illustrative_var=clusters)\n",
    "\n",
    "# On sauvegarde le graphqiue \n",
    "plt.savefig('projection_clusters')\n",
    "plt.show()"
   ]
  },
  {
   "cell_type": "markdown",
   "metadata": {},
   "source": [
    "<div style=\"border: 1px solid RGB(106,90,205);\">\n",
    "<h3 style=\"margin: auto; padding: 20px; color: RGB(106,90,205);\">Interprétation</h3>\n",
    "</div>"
   ]
  },
  {
   "cell_type": "code",
   "execution_count": 40,
   "metadata": {},
   "outputs": [
    {
     "name": "stdout",
     "output_type": "stream",
     "text": [
      "col_0   1   2\n",
      "row_0        \n",
      "False  69   1\n",
      "True    2  98\n"
     ]
    }
   ],
   "source": [
    "# tableau de confusion \n",
    "tc = pd.crosstab(names,clusters)\n",
    "print(tc)"
   ]
  },
  {
   "cell_type": "markdown",
   "metadata": {},
   "source": [
    "> Le clustering donne un résultat exact à 3 billets près "
   ]
  },
  {
   "cell_type": "code",
   "execution_count": 41,
   "metadata": {},
   "outputs": [
    {
     "data": {
      "text/html": [
       "<div>\n",
       "<style scoped>\n",
       "    .dataframe tbody tr th:only-of-type {\n",
       "        vertical-align: middle;\n",
       "    }\n",
       "\n",
       "    .dataframe tbody tr th {\n",
       "        vertical-align: top;\n",
       "    }\n",
       "\n",
       "    .dataframe thead th {\n",
       "        text-align: right;\n",
       "    }\n",
       "</style>\n",
       "<table border=\"1\" class=\"dataframe\">\n",
       "  <thead>\n",
       "    <tr style=\"text-align: right;\">\n",
       "      <th></th>\n",
       "      <th>length</th>\n",
       "      <th>height_left</th>\n",
       "      <th>height_right</th>\n",
       "      <th>margin_low</th>\n",
       "      <th>margin_up</th>\n",
       "      <th>diagonal</th>\n",
       "    </tr>\n",
       "    <tr>\n",
       "      <th>clusters</th>\n",
       "      <th></th>\n",
       "      <th></th>\n",
       "      <th></th>\n",
       "      <th></th>\n",
       "      <th></th>\n",
       "      <th></th>\n",
       "    </tr>\n",
       "  </thead>\n",
       "  <tbody>\n",
       "    <tr>\n",
       "      <th>1</th>\n",
       "      <td>171.894085</td>\n",
       "      <td>104.243662</td>\n",
       "      <td>104.160986</td>\n",
       "      <td>5.248592</td>\n",
       "      <td>3.333521</td>\n",
       "      <td>111.660423</td>\n",
       "    </tr>\n",
       "    <tr>\n",
       "      <th>2</th>\n",
       "      <td>171.973939</td>\n",
       "      <td>103.939192</td>\n",
       "      <td>103.761111</td>\n",
       "      <td>4.155657</td>\n",
       "      <td>3.053434</td>\n",
       "      <td>113.223030</td>\n",
       "    </tr>\n",
       "  </tbody>\n",
       "</table>\n",
       "</div>"
      ],
      "text/plain": [
       "              length  height_left  height_right  margin_low  margin_up  \\\n",
       "clusters                                                                 \n",
       "1         171.894085   104.243662    104.160986    5.248592   3.333521   \n",
       "2         171.973939   103.939192    103.761111    4.155657   3.053434   \n",
       "\n",
       "            diagonal  \n",
       "clusters              \n",
       "1         111.660423  \n",
       "2         113.223030  "
      ]
     },
     "execution_count": 41,
     "metadata": {},
     "output_type": "execute_result"
    }
   ],
   "source": [
    "# Affichage des caractéristiques des différents clusters\n",
    "clusters_features = billets.groupby(by='clusters').mean()\n",
    "clusters_features"
   ]
  },
  {
   "cell_type": "markdown",
   "metadata": {},
   "source": [
    "> Les caractéristiques des différents clusters semblent valider nos observations antérieures"
   ]
  },
  {
   "cell_type": "markdown",
   "metadata": {},
   "source": [
    "<div style=\"background-color: RGB(106,90,205);\">\n",
    "<h2 style=\"margin: auto; padding: 20px; color:RGB(255,255,255);\">Mission 3 : Création du programme</h2>\n",
    "</div>"
   ]
  },
  {
   "cell_type": "markdown",
   "metadata": {},
   "source": [
    "<div style=\"border: 1px solid RGB(106,90,205);\">\n",
    "<h3 style=\"margin: auto; padding: 20px; color: RGB(106,90,205);\">Modélisation des données à l'aide d'une régression logistique</h3>\n",
    "</div>"
   ]
  },
  {
   "cell_type": "markdown",
   "metadata": {},
   "source": [
    "> Objectif : Prédire/expliquer la variable 'is_genuine' à partir des caractéristiques des billets de notre échantillon ('length', 'height_left', etc.) :\n",
    "- y : variable cible (is_genuine)\n",
    "- X1, X2, ... : variables explicatives\n",
    "- f(.) une fonction qui essaie d'établir la relation y = f(X1, X2, ...)\n",
    "- f(.) doit être \"aussi précise que possible\" ..."
   ]
  },
  {
   "cell_type": "code",
   "execution_count": 42,
   "metadata": {},
   "outputs": [
    {
     "data": {
      "text/html": [
       "<div>\n",
       "<style scoped>\n",
       "    .dataframe tbody tr th:only-of-type {\n",
       "        vertical-align: middle;\n",
       "    }\n",
       "\n",
       "    .dataframe tbody tr th {\n",
       "        vertical-align: top;\n",
       "    }\n",
       "\n",
       "    .dataframe thead th {\n",
       "        text-align: right;\n",
       "    }\n",
       "</style>\n",
       "<table border=\"1\" class=\"dataframe\">\n",
       "  <thead>\n",
       "    <tr style=\"text-align: right;\">\n",
       "      <th></th>\n",
       "      <th>is_genuine</th>\n",
       "      <th>length</th>\n",
       "      <th>height_left</th>\n",
       "      <th>height_right</th>\n",
       "      <th>margin_low</th>\n",
       "      <th>margin_up</th>\n",
       "      <th>diagonal</th>\n",
       "    </tr>\n",
       "  </thead>\n",
       "  <tbody>\n",
       "    <tr>\n",
       "      <th>0</th>\n",
       "      <td>True</td>\n",
       "      <td>171.81</td>\n",
       "      <td>104.86</td>\n",
       "      <td>104.95</td>\n",
       "      <td>4.52</td>\n",
       "      <td>2.89</td>\n",
       "      <td>112.83</td>\n",
       "    </tr>\n",
       "    <tr>\n",
       "      <th>1</th>\n",
       "      <td>True</td>\n",
       "      <td>171.67</td>\n",
       "      <td>103.74</td>\n",
       "      <td>103.70</td>\n",
       "      <td>4.01</td>\n",
       "      <td>2.87</td>\n",
       "      <td>113.29</td>\n",
       "    </tr>\n",
       "    <tr>\n",
       "      <th>2</th>\n",
       "      <td>True</td>\n",
       "      <td>171.83</td>\n",
       "      <td>103.76</td>\n",
       "      <td>103.76</td>\n",
       "      <td>4.40</td>\n",
       "      <td>2.88</td>\n",
       "      <td>113.84</td>\n",
       "    </tr>\n",
       "    <tr>\n",
       "      <th>3</th>\n",
       "      <td>True</td>\n",
       "      <td>171.80</td>\n",
       "      <td>103.78</td>\n",
       "      <td>103.65</td>\n",
       "      <td>3.73</td>\n",
       "      <td>3.12</td>\n",
       "      <td>113.63</td>\n",
       "    </tr>\n",
       "    <tr>\n",
       "      <th>4</th>\n",
       "      <td>True</td>\n",
       "      <td>172.05</td>\n",
       "      <td>103.70</td>\n",
       "      <td>103.75</td>\n",
       "      <td>5.04</td>\n",
       "      <td>2.27</td>\n",
       "      <td>113.55</td>\n",
       "    </tr>\n",
       "  </tbody>\n",
       "</table>\n",
       "</div>"
      ],
      "text/plain": [
       "   is_genuine  length  height_left  height_right  margin_low  margin_up  \\\n",
       "0        True  171.81       104.86        104.95        4.52       2.89   \n",
       "1        True  171.67       103.74        103.70        4.01       2.87   \n",
       "2        True  171.83       103.76        103.76        4.40       2.88   \n",
       "3        True  171.80       103.78        103.65        3.73       3.12   \n",
       "4        True  172.05       103.70        103.75        5.04       2.27   \n",
       "\n",
       "   diagonal  \n",
       "0    112.83  \n",
       "1    113.29  \n",
       "2    113.84  \n",
       "3    113.63  \n",
       "4    113.55  "
      ]
     },
     "execution_count": 42,
     "metadata": {},
     "output_type": "execute_result"
    }
   ],
   "source": [
    "# Re-chargement de la table 'billets'\n",
    "billets = pd.read_csv(\"billets.csv\")\n",
    "billets.head()"
   ]
  },
  {
   "cell_type": "markdown",
   "metadata": {},
   "source": [
    "<div style=\"border: 1px solid RGB(106,90,205);\">\n",
    "<h3 style=\"margin: auto; padding: 20px; color: RGB(106,90,205);\">On vérifie l'indépendance entre les variables explicatives</h3>\n",
    "</div>"
   ]
  },
  {
   "cell_type": "code",
   "execution_count": 43,
   "metadata": {},
   "outputs": [
    {
     "data": {
      "image/png": "[encoded data removed]",
      "text/plain": [
       "<Figure size 432x288 with 2 Axes>"
      ]
     },
     "metadata": {},
     "output_type": "display_data"
    }
   ],
   "source": [
    "# On affiche un tableau de chaleur\n",
    "sb.heatmap(billets.corr())\n",
    "\n",
    "# On sauvegarde le graphique\n",
    "plt.savefig('heatmap')\n",
    "plt.show()"
   ]
  },
  {
   "cell_type": "markdown",
   "metadata": {},
   "source": [
    "> Nous pouvons remarquer une corrélation naturelle entre certaines variables, ce qui ne pose pas de problème en cas de régression logistique<br/>\n",
    "><br/>\n",
    "> Nous savons déjà que notre échantillon ne contient pas de valeur manquante<br/>\n",
    "><br/>\n",
    "> Nous savons également que notre variable 'is_genuine' est une variable qualitative"
   ]
  },
  {
   "cell_type": "markdown",
   "metadata": {},
   "source": [
    "<div style=\"border: 1px solid RGB(106,90,205);\">\n",
    "<h3 style=\"margin: auto; padding: 20px; color: RGB(106,90,205);\">On vérifie que la taille de notre échantillon est suffisante</h3>\n",
    "</div>"
   ]
  },
  {
   "cell_type": "code",
   "execution_count": 44,
   "metadata": {},
   "outputs": [
    {
     "name": "stdout",
     "output_type": "stream",
     "text": [
      "<class 'pandas.core.frame.DataFrame'>\n",
      "RangeIndex: 170 entries, 0 to 169\n",
      "Data columns (total 7 columns):\n",
      "is_genuine      170 non-null bool\n",
      "length          170 non-null float64\n",
      "height_left     170 non-null float64\n",
      "height_right    170 non-null float64\n",
      "margin_low      170 non-null float64\n",
      "margin_up       170 non-null float64\n",
      "diagonal        170 non-null float64\n",
      "dtypes: bool(1), float64(6)\n",
      "memory usage: 8.2 KB\n"
     ]
    }
   ],
   "source": [
    "billets.info()"
   ]
  },
  {
   "cell_type": "markdown",
   "metadata": {},
   "source": [
    "> La taille de notre échantillon est suffisante"
   ]
  },
  {
   "cell_type": "markdown",
   "metadata": {},
   "source": [
    "<div style=\"border: 1px solid RGB(106,90,205);\">\n",
    "<h3 style=\"margin: auto; padding: 20px; color: RGB(106,90,205);\">Subdivision en échantillons d'apprentissage et de test</h3>\n",
    "</div>"
   ]
  },
  {
   "cell_type": "code",
   "execution_count": 45,
   "metadata": {},
   "outputs": [
    {
     "data": {
      "text/plain": [
       "array([[True, 171.81, 104.86, ..., 4.52, 2.89, 112.83],\n",
       "       [True, 171.67, 103.74, ..., 4.01, 2.87, 113.29],\n",
       "       [True, 171.83, 103.76, ..., 4.4, 2.88, 113.84],\n",
       "       ...,\n",
       "       [False, 172.47, 104.27, ..., 4.88, 3.33, 110.68],\n",
       "       [False, 171.82, 103.97, ..., 4.73, 3.55, 111.87],\n",
       "       [False, 171.96, 104.0, ..., 5.63, 3.26, 110.96]], dtype=object)"
      ]
     },
     "execution_count": 45,
     "metadata": {},
     "output_type": "execute_result"
    }
   ],
   "source": [
    "# On convertit les données de 'billets' en un objet de type array Numpy\n",
    "data = billets.values\n",
    "\n",
    "# On observe\n",
    "data"
   ]
  },
  {
   "cell_type": "code",
   "execution_count": 46,
   "metadata": {},
   "outputs": [
    {
     "data": {
      "text/html": [
       "<div>\n",
       "<style scoped>\n",
       "    .dataframe tbody tr th:only-of-type {\n",
       "        vertical-align: middle;\n",
       "    }\n",
       "\n",
       "    .dataframe tbody tr th {\n",
       "        vertical-align: top;\n",
       "    }\n",
       "\n",
       "    .dataframe thead th {\n",
       "        text-align: right;\n",
       "    }\n",
       "</style>\n",
       "<table border=\"1\" class=\"dataframe\">\n",
       "  <thead>\n",
       "    <tr style=\"text-align: right;\">\n",
       "      <th></th>\n",
       "      <th>length</th>\n",
       "      <th>height_left</th>\n",
       "      <th>height_right</th>\n",
       "      <th>margin_low</th>\n",
       "      <th>margin_up</th>\n",
       "      <th>diagonal</th>\n",
       "    </tr>\n",
       "  </thead>\n",
       "  <tbody>\n",
       "    <tr>\n",
       "      <th>0</th>\n",
       "      <td>171.81</td>\n",
       "      <td>104.86</td>\n",
       "      <td>104.95</td>\n",
       "      <td>4.52</td>\n",
       "      <td>2.89</td>\n",
       "      <td>112.83</td>\n",
       "    </tr>\n",
       "    <tr>\n",
       "      <th>1</th>\n",
       "      <td>171.67</td>\n",
       "      <td>103.74</td>\n",
       "      <td>103.70</td>\n",
       "      <td>4.01</td>\n",
       "      <td>2.87</td>\n",
       "      <td>113.29</td>\n",
       "    </tr>\n",
       "    <tr>\n",
       "      <th>2</th>\n",
       "      <td>171.83</td>\n",
       "      <td>103.76</td>\n",
       "      <td>103.76</td>\n",
       "      <td>4.40</td>\n",
       "      <td>2.88</td>\n",
       "      <td>113.84</td>\n",
       "    </tr>\n",
       "    <tr>\n",
       "      <th>3</th>\n",
       "      <td>171.80</td>\n",
       "      <td>103.78</td>\n",
       "      <td>103.65</td>\n",
       "      <td>3.73</td>\n",
       "      <td>3.12</td>\n",
       "      <td>113.63</td>\n",
       "    </tr>\n",
       "    <tr>\n",
       "      <th>4</th>\n",
       "      <td>172.05</td>\n",
       "      <td>103.70</td>\n",
       "      <td>103.75</td>\n",
       "      <td>5.04</td>\n",
       "      <td>2.27</td>\n",
       "      <td>113.55</td>\n",
       "    </tr>\n",
       "  </tbody>\n",
       "</table>\n",
       "</div>"
      ],
      "text/plain": [
       "   length  height_left  height_right  margin_low  margin_up  diagonal\n",
       "0  171.81       104.86        104.95        4.52       2.89    112.83\n",
       "1  171.67       103.74        103.70        4.01       2.87    113.29\n",
       "2  171.83       103.76        103.76        4.40       2.88    113.84\n",
       "3  171.80       103.78        103.65        3.73       3.12    113.63\n",
       "4  172.05       103.70        103.75        5.04       2.27    113.55"
      ]
     },
     "execution_count": 46,
     "metadata": {},
     "output_type": "execute_result"
    }
   ],
   "source": [
    "# X matrice des var. explicatives\n",
    "X = billets.iloc[:,1:7]\n",
    "\n",
    "# On observe\n",
    "X.head()"
   ]
  },
  {
   "cell_type": "code",
   "execution_count": 47,
   "metadata": {},
   "outputs": [
    {
     "data": {
      "text/plain": [
       "0    True\n",
       "1    True\n",
       "2    True\n",
       "3    True\n",
       "4    True\n",
       "Name: is_genuine, dtype: bool"
      ]
     },
     "execution_count": 47,
     "metadata": {},
     "output_type": "execute_result"
    }
   ],
   "source": [
    "# y vecteur de la var. à prédire\n",
    "y = billets.iloc[:,0]\n",
    "\n",
    "# On observe\n",
    "y.head()"
   ]
  },
  {
   "cell_type": "code",
   "execution_count": 48,
   "metadata": {},
   "outputs": [
    {
     "name": "stdout",
     "output_type": "stream",
     "text": [
      "(90, 6) (80, 6) (90,) (80,)\n"
     ]
    }
   ],
   "source": [
    "# subdivision des données - éch.test = 80; éch.app = 170 - éch.test = 90\n",
    "X_app,X_test,y_app,y_test=model_selection.train_test_split(X,y,test_size=80,random_state=0)\n",
    "\n",
    "# On observe\n",
    "print(X_app.shape,X_test.shape,y_app.shape,y_test.shape)"
   ]
  },
  {
   "cell_type": "markdown",
   "metadata": {},
   "source": [
    "<div style=\"border: 1px solid RGB(106,90,205);\">\n",
    "<h3 style=\"margin: auto; padding: 20px; color: RGB(106,90,205);\">Construction du modèle sur l'échantillon d'apprentissage</h3>\n",
    "</div>"
   ]
  },
  {
   "cell_type": "markdown",
   "metadata": {},
   "source": [
    "> Utilisation de la librairie scikit-learn"
   ]
  },
  {
   "cell_type": "code",
   "execution_count": 49,
   "metadata": {},
   "outputs": [],
   "source": [
    "# Création d'une instance de la classe\n",
    "lr = LogisticRegression()"
   ]
  },
  {
   "cell_type": "code",
   "execution_count": 50,
   "metadata": {},
   "outputs": [],
   "source": [
    "# Exécution de l'instance sur les données d'apprentissage, c-à-d construction du modèle prédictif\n",
    "modele = lr.fit(X_app,y_app)"
   ]
  },
  {
   "cell_type": "code",
   "execution_count": 51,
   "metadata": {},
   "outputs": [
    {
     "name": "stdout",
     "output_type": "stream",
     "text": [
      "[[-0.3084693  -0.538903   -0.82994621 -2.38901496 -1.15540353  1.87223403]] [-0.00274145]\n"
     ]
    }
   ],
   "source": [
    "# Affichage des coefficients\n",
    "print(modele.coef_,modele.intercept_)"
   ]
  },
  {
   "cell_type": "markdown",
   "metadata": {},
   "source": [
    "<div style=\"border: 1px solid RGB(106,90,205);\">\n",
    "<h3 style=\"margin: auto; padding: 20px; color: RGB(106,90,205);\">Prédiction et évaluation sur l'échantillon test</h3>\n",
    "</div>"
   ]
  },
  {
   "cell_type": "markdown",
   "metadata": {},
   "source": [
    "> Utilisation de la librairie scikit-learn"
   ]
  },
  {
   "cell_type": "code",
   "execution_count": 52,
   "metadata": {},
   "outputs": [],
   "source": [
    "# Prédiction sur l'échantillon test\n",
    "y_pred = modele.predict(X_test)"
   ]
  },
  {
   "cell_type": "code",
   "execution_count": 53,
   "metadata": {},
   "outputs": [
    {
     "name": "stdout",
     "output_type": "stream",
     "text": [
      "[[35  0]\n",
      " [ 0 45]]\n"
     ]
    }
   ],
   "source": [
    "# Matrice de confusion : confrontation entre Y obs. sur l'éch.test et la prédiction\n",
    "cm = metrics.confusion_matrix(y_test,y_pred)\n",
    "\n",
    "# On observe\n",
    "print(cm)"
   ]
  },
  {
   "cell_type": "code",
   "execution_count": 54,
   "metadata": {},
   "outputs": [
    {
     "name": "stdout",
     "output_type": "stream",
     "text": [
      "1.0\n"
     ]
    }
   ],
   "source": [
    "# Taux de succès\n",
    "acc = metrics.accuracy_score(y_test,y_pred)\n",
    "\n",
    "# On observe\n",
    "print(acc)"
   ]
  },
  {
   "cell_type": "code",
   "execution_count": 55,
   "metadata": {},
   "outputs": [
    {
     "name": "stdout",
     "output_type": "stream",
     "text": [
      "0.0\n"
     ]
    }
   ],
   "source": [
    "# Taux d'erreur\n",
    "err = 1.0 - acc\n",
    "\n",
    "# On observe\n",
    "print(err)"
   ]
  },
  {
   "cell_type": "markdown",
   "metadata": {},
   "source": [
    "<div style=\"border: 1px solid RGB(106,90,205);\">\n",
    "<h3 style=\"margin: auto; padding: 20px; color: RGB(106,90,205);\">Construction de notre propre mesure de performance</h3>\n",
    "</div>"
   ]
  },
  {
   "cell_type": "code",
   "execution_count": 56,
   "metadata": {},
   "outputs": [],
   "source": [
    "# On crée la fonction\n",
    "def specificity(y,y_hat):\n",
    "# matrice de confusion - un objet numpy.ndarry\n",
    "    mc = metrics.confusion_matrix(y,y_hat)\n",
    "# \"negative\" est sur l'indice 0 dans la matrice\n",
    "    import numpy\n",
    "    res = mc[0,0]/numpy.sum(mc[0,:])\n",
    "# retour\n",
    "    return res"
   ]
  },
  {
   "cell_type": "code",
   "execution_count": 57,
   "metadata": {},
   "outputs": [],
   "source": [
    "# On la rend utilisable - transformation en objet scorer\n",
    "specificite = metrics.make_scorer(specificity,greater_is_better=True)"
   ]
  },
  {
   "cell_type": "code",
   "execution_count": 58,
   "metadata": {},
   "outputs": [
    {
     "name": "stdout",
     "output_type": "stream",
     "text": [
      "1.0\n"
     ]
    }
   ],
   "source": [
    "# Utilisation de l'objet scorer\n",
    "# Remarque : modele est le modèle élaboré sur l'éch. d'apprentissage\n",
    "sp = specificite(modele,X_test,y_test)\n",
    "\n",
    "# On observe\n",
    "print(sp)"
   ]
  },
  {
   "cell_type": "markdown",
   "metadata": {},
   "source": [
    "<div style=\"border: 1px solid RGB(106,90,205);\">\n",
    "<h3 style=\"margin: auto; padding: 20px; color: RGB(106,90,205);\">On applique notre programme au fichier d'exemple</h3>\n",
    "</div>"
   ]
  },
  {
   "cell_type": "code",
   "execution_count": 59,
   "metadata": {},
   "outputs": [
    {
     "data": {
      "text/html": [
       "<div>\n",
       "<style scoped>\n",
       "    .dataframe tbody tr th:only-of-type {\n",
       "        vertical-align: middle;\n",
       "    }\n",
       "\n",
       "    .dataframe tbody tr th {\n",
       "        vertical-align: top;\n",
       "    }\n",
       "\n",
       "    .dataframe thead th {\n",
       "        text-align: right;\n",
       "    }\n",
       "</style>\n",
       "<table border=\"1\" class=\"dataframe\">\n",
       "  <thead>\n",
       "    <tr style=\"text-align: right;\">\n",
       "      <th></th>\n",
       "      <th>length</th>\n",
       "      <th>height_left</th>\n",
       "      <th>height_right</th>\n",
       "      <th>margin_low</th>\n",
       "      <th>margin_up</th>\n",
       "      <th>diagonal</th>\n",
       "      <th>id</th>\n",
       "    </tr>\n",
       "  </thead>\n",
       "  <tbody>\n",
       "    <tr>\n",
       "      <th>0</th>\n",
       "      <td>171.76</td>\n",
       "      <td>104.01</td>\n",
       "      <td>103.54</td>\n",
       "      <td>5.21</td>\n",
       "      <td>3.30</td>\n",
       "      <td>111.42</td>\n",
       "      <td>B_1</td>\n",
       "    </tr>\n",
       "    <tr>\n",
       "      <th>1</th>\n",
       "      <td>171.87</td>\n",
       "      <td>104.17</td>\n",
       "      <td>104.13</td>\n",
       "      <td>6.00</td>\n",
       "      <td>3.31</td>\n",
       "      <td>112.09</td>\n",
       "      <td>B_2</td>\n",
       "    </tr>\n",
       "    <tr>\n",
       "      <th>2</th>\n",
       "      <td>172.00</td>\n",
       "      <td>104.58</td>\n",
       "      <td>104.29</td>\n",
       "      <td>4.99</td>\n",
       "      <td>3.39</td>\n",
       "      <td>111.57</td>\n",
       "      <td>B_3</td>\n",
       "    </tr>\n",
       "    <tr>\n",
       "      <th>3</th>\n",
       "      <td>172.49</td>\n",
       "      <td>104.55</td>\n",
       "      <td>104.34</td>\n",
       "      <td>4.44</td>\n",
       "      <td>3.03</td>\n",
       "      <td>113.20</td>\n",
       "      <td>B_4</td>\n",
       "    </tr>\n",
       "    <tr>\n",
       "      <th>4</th>\n",
       "      <td>171.65</td>\n",
       "      <td>103.63</td>\n",
       "      <td>103.56</td>\n",
       "      <td>3.77</td>\n",
       "      <td>3.16</td>\n",
       "      <td>113.33</td>\n",
       "      <td>B_5</td>\n",
       "    </tr>\n",
       "  </tbody>\n",
       "</table>\n",
       "</div>"
      ],
      "text/plain": [
       "   length  height_left  height_right  margin_low  margin_up  diagonal   id\n",
       "0  171.76       104.01        103.54        5.21       3.30    111.42  B_1\n",
       "1  171.87       104.17        104.13        6.00       3.31    112.09  B_2\n",
       "2  172.00       104.58        104.29        4.99       3.39    111.57  B_3\n",
       "3  172.49       104.55        104.34        4.44       3.03    113.20  B_4\n",
       "4  171.65       103.63        103.56        3.77       3.16    113.33  B_5"
      ]
     },
     "execution_count": 59,
     "metadata": {},
     "output_type": "execute_result"
    }
   ],
   "source": [
    "# Importation du fichier d'exemple \n",
    "df_pred = pd.read_csv(\"exemple.csv\")\n",
    "\n",
    "# On observe\n",
    "df_pred.head()"
   ]
  },
  {
   "cell_type": "code",
   "execution_count": 60,
   "metadata": {},
   "outputs": [
    {
     "data": {
      "text/html": [
       "<div>\n",
       "<style scoped>\n",
       "    .dataframe tbody tr th:only-of-type {\n",
       "        vertical-align: middle;\n",
       "    }\n",
       "\n",
       "    .dataframe tbody tr th {\n",
       "        vertical-align: top;\n",
       "    }\n",
       "\n",
       "    .dataframe thead th {\n",
       "        text-align: right;\n",
       "    }\n",
       "</style>\n",
       "<table border=\"1\" class=\"dataframe\">\n",
       "  <thead>\n",
       "    <tr style=\"text-align: right;\">\n",
       "      <th></th>\n",
       "      <th>length</th>\n",
       "      <th>height_left</th>\n",
       "      <th>height_right</th>\n",
       "      <th>margin_low</th>\n",
       "      <th>margin_up</th>\n",
       "      <th>diagonal</th>\n",
       "    </tr>\n",
       "  </thead>\n",
       "  <tbody>\n",
       "    <tr>\n",
       "      <th>0</th>\n",
       "      <td>171.76</td>\n",
       "      <td>104.01</td>\n",
       "      <td>103.54</td>\n",
       "      <td>5.21</td>\n",
       "      <td>3.30</td>\n",
       "      <td>111.42</td>\n",
       "    </tr>\n",
       "    <tr>\n",
       "      <th>1</th>\n",
       "      <td>171.87</td>\n",
       "      <td>104.17</td>\n",
       "      <td>104.13</td>\n",
       "      <td>6.00</td>\n",
       "      <td>3.31</td>\n",
       "      <td>112.09</td>\n",
       "    </tr>\n",
       "    <tr>\n",
       "      <th>2</th>\n",
       "      <td>172.00</td>\n",
       "      <td>104.58</td>\n",
       "      <td>104.29</td>\n",
       "      <td>4.99</td>\n",
       "      <td>3.39</td>\n",
       "      <td>111.57</td>\n",
       "    </tr>\n",
       "    <tr>\n",
       "      <th>3</th>\n",
       "      <td>172.49</td>\n",
       "      <td>104.55</td>\n",
       "      <td>104.34</td>\n",
       "      <td>4.44</td>\n",
       "      <td>3.03</td>\n",
       "      <td>113.20</td>\n",
       "    </tr>\n",
       "    <tr>\n",
       "      <th>4</th>\n",
       "      <td>171.65</td>\n",
       "      <td>103.63</td>\n",
       "      <td>103.56</td>\n",
       "      <td>3.77</td>\n",
       "      <td>3.16</td>\n",
       "      <td>113.33</td>\n",
       "    </tr>\n",
       "  </tbody>\n",
       "</table>\n",
       "</div>"
      ],
      "text/plain": [
       "   length  height_left  height_right  margin_low  margin_up  diagonal\n",
       "0  171.76       104.01        103.54        5.21       3.30    111.42\n",
       "1  171.87       104.17        104.13        6.00       3.31    112.09\n",
       "2  172.00       104.58        104.29        4.99       3.39    111.57\n",
       "3  172.49       104.55        104.34        4.44       3.03    113.20\n",
       "4  171.65       103.63        103.56        3.77       3.16    113.33"
      ]
     },
     "execution_count": 60,
     "metadata": {},
     "output_type": "execute_result"
    }
   ],
   "source": [
    "# Sélection des variables explicatives\n",
    "X = df_pred.iloc[:,0:6]\n",
    "\n",
    "# On observe\n",
    "X.head()"
   ]
  },
  {
   "cell_type": "code",
   "execution_count": 61,
   "metadata": {},
   "outputs": [
    {
     "data": {
      "text/html": [
       "<div>\n",
       "<style scoped>\n",
       "    .dataframe tbody tr th:only-of-type {\n",
       "        vertical-align: middle;\n",
       "    }\n",
       "\n",
       "    .dataframe tbody tr th {\n",
       "        vertical-align: top;\n",
       "    }\n",
       "\n",
       "    .dataframe thead th {\n",
       "        text-align: right;\n",
       "    }\n",
       "</style>\n",
       "<table border=\"1\" class=\"dataframe\">\n",
       "  <thead>\n",
       "    <tr style=\"text-align: right;\">\n",
       "      <th></th>\n",
       "      <th>length</th>\n",
       "      <th>height_left</th>\n",
       "      <th>height_right</th>\n",
       "      <th>margin_low</th>\n",
       "      <th>margin_up</th>\n",
       "      <th>diagonal</th>\n",
       "      <th>id</th>\n",
       "      <th>is_genuine</th>\n",
       "    </tr>\n",
       "  </thead>\n",
       "  <tbody>\n",
       "    <tr>\n",
       "      <th>0</th>\n",
       "      <td>171.76</td>\n",
       "      <td>104.01</td>\n",
       "      <td>103.54</td>\n",
       "      <td>5.21</td>\n",
       "      <td>3.30</td>\n",
       "      <td>111.42</td>\n",
       "      <td>B_1</td>\n",
       "      <td>False</td>\n",
       "    </tr>\n",
       "    <tr>\n",
       "      <th>1</th>\n",
       "      <td>171.87</td>\n",
       "      <td>104.17</td>\n",
       "      <td>104.13</td>\n",
       "      <td>6.00</td>\n",
       "      <td>3.31</td>\n",
       "      <td>112.09</td>\n",
       "      <td>B_2</td>\n",
       "      <td>False</td>\n",
       "    </tr>\n",
       "    <tr>\n",
       "      <th>2</th>\n",
       "      <td>172.00</td>\n",
       "      <td>104.58</td>\n",
       "      <td>104.29</td>\n",
       "      <td>4.99</td>\n",
       "      <td>3.39</td>\n",
       "      <td>111.57</td>\n",
       "      <td>B_3</td>\n",
       "      <td>False</td>\n",
       "    </tr>\n",
       "    <tr>\n",
       "      <th>3</th>\n",
       "      <td>172.49</td>\n",
       "      <td>104.55</td>\n",
       "      <td>104.34</td>\n",
       "      <td>4.44</td>\n",
       "      <td>3.03</td>\n",
       "      <td>113.20</td>\n",
       "      <td>B_4</td>\n",
       "      <td>True</td>\n",
       "    </tr>\n",
       "    <tr>\n",
       "      <th>4</th>\n",
       "      <td>171.65</td>\n",
       "      <td>103.63</td>\n",
       "      <td>103.56</td>\n",
       "      <td>3.77</td>\n",
       "      <td>3.16</td>\n",
       "      <td>113.33</td>\n",
       "      <td>B_5</td>\n",
       "      <td>True</td>\n",
       "    </tr>\n",
       "  </tbody>\n",
       "</table>\n",
       "</div>"
      ],
      "text/plain": [
       "   length  height_left  height_right  margin_low  margin_up  diagonal   id  \\\n",
       "0  171.76       104.01        103.54        5.21       3.30    111.42  B_1   \n",
       "1  171.87       104.17        104.13        6.00       3.31    112.09  B_2   \n",
       "2  172.00       104.58        104.29        4.99       3.39    111.57  B_3   \n",
       "3  172.49       104.55        104.34        4.44       3.03    113.20  B_4   \n",
       "4  171.65       103.63        103.56        3.77       3.16    113.33  B_5   \n",
       "\n",
       "   is_genuine  \n",
       "0       False  \n",
       "1       False  \n",
       "2       False  \n",
       "3        True  \n",
       "4        True  "
      ]
     },
     "execution_count": 61,
     "metadata": {},
     "output_type": "execute_result"
    }
   ],
   "source": [
    "# On fait tourner le programme\n",
    "df_pred['is_genuine'] = lr.predict(X)\n",
    "\n",
    "# On observe\n",
    "df_pred"
   ]
  },
  {
   "cell_type": "code",
   "execution_count": 62,
   "metadata": {},
   "outputs": [
    {
     "data": {
      "text/plain": [
       "array([[0.9324309 , 0.0675691 ],\n",
       "       [0.97974613, 0.02025387],\n",
       "       [0.94911101, 0.05088899],\n",
       "       [0.15719008, 0.84280992],\n",
       "       [0.00836435, 0.99163565]])"
      ]
     },
     "execution_count": 62,
     "metadata": {},
     "output_type": "execute_result"
    }
   ],
   "source": [
    "# On récupère les probabilité dans un tabelau numpy\n",
    "proba = lr.predict_proba(X)\n",
    "\n",
    "# On observe\n",
    "proba"
   ]
  },
  {
   "cell_type": "markdown",
   "metadata": {},
   "source": [
    "<div style=\"border: 1px solid RGB(106,90,205);\">\n",
    "<h3 style=\"margin: auto; padding: 20px; color: RGB(106,90,205);\">Affichage des billets dans le 1er plan factoriel</h3>\n",
    "</div>"
   ]
  },
  {
   "cell_type": "code",
   "execution_count": 63,
   "metadata": {},
   "outputs": [
    {
     "data": {
      "text/html": [
       "<div>\n",
       "<style scoped>\n",
       "    .dataframe tbody tr th:only-of-type {\n",
       "        vertical-align: middle;\n",
       "    }\n",
       "\n",
       "    .dataframe tbody tr th {\n",
       "        vertical-align: top;\n",
       "    }\n",
       "\n",
       "    .dataframe thead th {\n",
       "        text-align: right;\n",
       "    }\n",
       "</style>\n",
       "<table border=\"1\" class=\"dataframe\">\n",
       "  <thead>\n",
       "    <tr style=\"text-align: right;\">\n",
       "      <th></th>\n",
       "      <th>length</th>\n",
       "      <th>height_left</th>\n",
       "      <th>height_right</th>\n",
       "      <th>margin_low</th>\n",
       "      <th>margin_up</th>\n",
       "      <th>diagonal</th>\n",
       "      <th>id</th>\n",
       "    </tr>\n",
       "    <tr>\n",
       "      <th>is_genuine</th>\n",
       "      <th></th>\n",
       "      <th></th>\n",
       "      <th></th>\n",
       "      <th></th>\n",
       "      <th></th>\n",
       "      <th></th>\n",
       "      <th></th>\n",
       "    </tr>\n",
       "  </thead>\n",
       "  <tbody>\n",
       "    <tr>\n",
       "      <th>False</th>\n",
       "      <td>171.76</td>\n",
       "      <td>104.01</td>\n",
       "      <td>103.54</td>\n",
       "      <td>5.21</td>\n",
       "      <td>3.30</td>\n",
       "      <td>111.42</td>\n",
       "      <td>B_1</td>\n",
       "    </tr>\n",
       "    <tr>\n",
       "      <th>False</th>\n",
       "      <td>171.87</td>\n",
       "      <td>104.17</td>\n",
       "      <td>104.13</td>\n",
       "      <td>6.00</td>\n",
       "      <td>3.31</td>\n",
       "      <td>112.09</td>\n",
       "      <td>B_2</td>\n",
       "    </tr>\n",
       "    <tr>\n",
       "      <th>False</th>\n",
       "      <td>172.00</td>\n",
       "      <td>104.58</td>\n",
       "      <td>104.29</td>\n",
       "      <td>4.99</td>\n",
       "      <td>3.39</td>\n",
       "      <td>111.57</td>\n",
       "      <td>B_3</td>\n",
       "    </tr>\n",
       "    <tr>\n",
       "      <th>True</th>\n",
       "      <td>172.49</td>\n",
       "      <td>104.55</td>\n",
       "      <td>104.34</td>\n",
       "      <td>4.44</td>\n",
       "      <td>3.03</td>\n",
       "      <td>113.20</td>\n",
       "      <td>B_4</td>\n",
       "    </tr>\n",
       "    <tr>\n",
       "      <th>True</th>\n",
       "      <td>171.65</td>\n",
       "      <td>103.63</td>\n",
       "      <td>103.56</td>\n",
       "      <td>3.77</td>\n",
       "      <td>3.16</td>\n",
       "      <td>113.33</td>\n",
       "      <td>B_5</td>\n",
       "    </tr>\n",
       "  </tbody>\n",
       "</table>\n",
       "</div>"
      ],
      "text/plain": [
       "            length  height_left  height_right  margin_low  margin_up  \\\n",
       "is_genuine                                                             \n",
       "False       171.76       104.01        103.54        5.21       3.30   \n",
       "False       171.87       104.17        104.13        6.00       3.31   \n",
       "False       172.00       104.58        104.29        4.99       3.39   \n",
       "True        172.49       104.55        104.34        4.44       3.03   \n",
       "True        171.65       103.63        103.56        3.77       3.16   \n",
       "\n",
       "            diagonal   id  \n",
       "is_genuine                 \n",
       "False         111.42  B_1  \n",
       "False         112.09  B_2  \n",
       "False         111.57  B_3  \n",
       "True          113.20  B_4  \n",
       "True          113.33  B_5  "
      ]
     },
     "execution_count": 63,
     "metadata": {},
     "output_type": "execute_result"
    }
   ],
   "source": [
    "# la variable \"is_genuine\" est prise en index\n",
    "df_pred.set_index('is_genuine', inplace=True, drop=True)\n",
    "\n",
    "# On observe\n",
    "df_pred.head()"
   ]
  },
  {
   "cell_type": "code",
   "execution_count": 64,
   "metadata": {},
   "outputs": [],
   "source": [
    "# On affecte les valeurs de l'index à names\n",
    "names = df_pred.index\n",
    "\n",
    "# On affecteles colonnes à deatures\n",
    "features = df_pred.columns"
   ]
  },
  {
   "cell_type": "code",
   "execution_count": 65,
   "metadata": {},
   "outputs": [],
   "source": [
    "# centrage et réduction\n",
    "X_scaled = preprocessing.StandardScaler().fit_transform(X)"
   ]
  },
  {
   "cell_type": "code",
   "execution_count": 66,
   "metadata": {},
   "outputs": [
    {
     "data": {
      "image/png": "[encoded data removed]",
      "text/plain": [
       "<Figure size 504x432 with 1 Axes>"
      ]
     },
     "metadata": {},
     "output_type": "display_data"
    }
   ],
   "source": [
    "# On projette les individus\n",
    "X_projected = pca.transform(X_scaled)\n",
    "display_factorial_planes(X_projected, n_comp, pca, [(0,1)], labels = np.array(names))\n",
    "\n",
    "# On sauvegarde le garphique\n",
    "plt.savefig('projection_individus_exemple')\n",
    "plt.show()"
   ]
  },
  {
   "cell_type": "code",
   "execution_count": null,
   "metadata": {},
   "outputs": [],
   "source": []
  }
 ],
 "metadata": {
  "kernelspec": {
   "display_name": "Python 3",
   "language": "python",
   "name": "python3"
  },
  "language_info": {
   "codemirror_mode": {
    "name": "ipython",
    "version": 3
   },
   "file_extension": ".py",
   "mimetype": "text/x-python",
   "name": "python",
   "nbconvert_exporter": "python",
   "pygments_lexer": "ipython3",
   "version": "3.8.8"
  }
 },
 "nbformat": 4,
 "nbformat_minor": 2
}
